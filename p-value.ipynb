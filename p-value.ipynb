{
 "cells": [
  {
   "cell_type": "code",
   "execution_count": 5,
   "id": "9bc48a04-1d38-40de-b209-429e29e13cc4",
   "metadata": {},
   "outputs": [],
   "source": [
    "import numpy as np\n",
    "import pandas as pd\n",
    "import seaborn as sns\n",
    "import matplotlib.pyplot as plt\n",
    "from scipy.stats import ttest_1samp\n",
    "from scipy.stats import binom\n",
    "\n",
    "import cvfunc\n",
    "import cv2\n",
    "import symmetry\n",
    "\n",
    "from tqdm import tqdm\n",
    "from glob import glob\n",
    "import os"
   ]
  },
  {
   "cell_type": "markdown",
   "id": "7609c97d-089f-473c-b60f-d3a7827966db",
   "metadata": {},
   "source": [
    "**Reading and extracting colors**"
   ]
  },
  {
   "cell_type": "code",
   "execution_count": 6,
   "id": "a9c780f9-bdca-485b-90ab-3c37ad098009",
   "metadata": {},
   "outputs": [],
   "source": [
    "path = \"sample/*.png\""
   ]
  },
  {
   "cell_type": "code",
   "execution_count": 24,
   "id": "95674013-f22d-4a7a-818a-84948dca3e48",
   "metadata": {},
   "outputs": [
    {
     "data": {
      "text/plain": [
       "['sample/East_day105_16Apr2013_N.png',\n",
       " 'sample/East_day105_16Apr2013_S.png',\n",
       " 'sample/East_day105_16Apr2013_mirror.png',\n",
       " 'sample/Office_day261_18Sep2013_mirror.png']"
      ]
     },
     "execution_count": 24,
     "metadata": {},
     "output_type": "execute_result"
    }
   ],
   "source": [
    "sorted(glob(path))"
   ]
  },
  {
   "cell_type": "code",
   "execution_count": 26,
   "id": "bde90fce-1bcb-4f06-a5b9-58b402587897",
   "metadata": {},
   "outputs": [],
   "source": [
    "pictures = [cvfunc.reduce_colors(cv2.imread(file),n=u) for file,u in zip(sorted(glob(path)),[6,6,6,5])]"
   ]
  },
  {
   "cell_type": "code",
   "execution_count": 27,
   "id": "c0697d63-a991-4e15-b0dd-9a2dd12c3420",
   "metadata": {},
   "outputs": [],
   "source": [
    "colors = [cvfunc.get_colors(img) for img in pictures]"
   ]
  },
  {
   "cell_type": "code",
   "execution_count": 29,
   "id": "27896b7e-405d-4115-b8f0-914dec91ac53",
   "metadata": {},
   "outputs": [
    {
     "data": {
      "text/plain": [
       "(array([[2.7138885e-04, 2.7138885e-04, 2.7138885e-04],\n",
       "        [3.4305146e-01, 3.6461803e-01, 4.0879607e-01],\n",
       "        [6.4363784e-01, 8.2810885e-01, 7.0252353e-01],\n",
       "        [7.7252299e-01, 9.9998933e-01, 8.4702766e-01],\n",
       "        [9.4073594e-01, 6.8211913e-01, 2.6240980e-04],\n",
       "        [1.0000000e+00, 1.0000000e+00, 1.0000000e+00]], dtype=float32),\n",
       " array([ 289, 1822,  251, 1473, 1076, 5889]))"
      ]
     },
     "execution_count": 29,
     "metadata": {},
     "output_type": "execute_result"
    }
   ],
   "source": [
    "colors[0]"
   ]
  },
  {
   "cell_type": "code",
   "execution_count": 37,
   "id": "ed889fa4-eff9-41ff-89c8-fd71fa768477",
   "metadata": {},
   "outputs": [
    {
     "data": {
      "image/png": "[encoded data removed]",
      "text/plain": [
       "<Figure size 432x288 with 1 Axes>"
      ]
     },
     "metadata": {
      "needs_background": "light"
     },
     "output_type": "display_data"
    },
    {
     "data": {
      "image/png": "[encoded data removed]",
      "text/plain": [
       "<Figure size 432x288 with 1 Axes>"
      ]
     },
     "metadata": {
      "needs_background": "light"
     },
     "output_type": "display_data"
    },
    {
     "data": {
      "image/png": "[encoded data removed]",
      "text/plain": [
       "<Figure size 432x288 with 1 Axes>"
      ]
     },
     "metadata": {
      "needs_background": "light"
     },
     "output_type": "display_data"
    },
    {
     "data": {
      "image/png": "[encoded data removed]",
      "text/plain": [
       "<Figure size 432x288 with 1 Axes>"
      ]
     },
     "metadata": {
      "needs_background": "light"
     },
     "output_type": "display_data"
    }
   ],
   "source": [
    "for img in pictures:\n",
    "    plt.figure()\n",
    "    plt.imshow(img)"
   ]
  },
  {
   "cell_type": "code",
   "execution_count": 96,
   "id": "c1eb77ed-353b-4123-9bb0-129a10bd2535",
   "metadata": {},
   "outputs": [],
   "source": [
    "test_color = colors[0][0]"
   ]
  },
  {
   "cell_type": "code",
   "execution_count": 97,
   "id": "39423399-ba6e-46aa-bdf1-de89c0161c00",
   "metadata": {},
   "outputs": [
    {
     "data": {
      "text/plain": [
       "array([[2.7138885e-04, 2.7138885e-04, 2.7138885e-04],\n",
       "       [3.4305146e-01, 3.6461803e-01, 4.0879607e-01],\n",
       "       [6.4363784e-01, 8.2810885e-01, 7.0252353e-01],\n",
       "       [7.7252299e-01, 9.9998933e-01, 8.4702766e-01],\n",
       "       [9.4073594e-01, 6.8211913e-01, 2.6240980e-04]], dtype=float32)"
      ]
     },
     "execution_count": 97,
     "metadata": {},
     "output_type": "execute_result"
    }
   ],
   "source": [
    "test_color[:-1]"
   ]
  },
  {
   "cell_type": "code",
   "execution_count": 42,
   "id": "5b6cea4e-b357-404c-993b-4f0205bfd207",
   "metadata": {},
   "outputs": [],
   "source": [
    "img = pictures[0]"
   ]
  },
  {
   "cell_type": "code",
   "execution_count": 49,
   "id": "f6d6617c-4ae5-44bf-a453-c386bd1a429a",
   "metadata": {},
   "outputs": [
    {
     "data": {
      "text/plain": [
       "{0: array([0.00027139, 0.00027139, 0.00027139], dtype=float32),\n",
       " 1: array([0.34305146, 0.36461803, 0.40879607], dtype=float32),\n",
       " 2: array([0.64363784, 0.82810885, 0.7025235 ], dtype=float32),\n",
       " 3: array([0.772523  , 0.99998933, 0.84702766], dtype=float32),\n",
       " 4: array([9.4073594e-01, 6.8211913e-01, 2.6240980e-04], dtype=float32),\n",
       " 5: array([1., 1., 1.], dtype=float32)}"
      ]
     },
     "execution_count": 49,
     "metadata": {},
     "output_type": "execute_result"
    }
   ],
   "source": [
    "dict(zip(range(len(color)),color))"
   ]
  },
  {
   "cell_type": "code",
   "execution_count": 159,
   "id": "26c1ee2a-c72c-4f0c-a462-424a0db65478",
   "metadata": {},
   "outputs": [],
   "source": [
    "def mask_by_color(img,color):\n",
    "    return (cvfunc.color_threshold(img,[color],[color])/255).astype(np.uint8)"
   ]
  },
  {
   "cell_type": "code",
   "execution_count": 160,
   "id": "90876a82-5643-4a6c-9288-9794e164b222",
   "metadata": {},
   "outputs": [],
   "source": [
    "img_mask = (cvfunc.color_threshold(img,[color[-1]],[color[-1]],invert=True)/255.0).astype(np.uint8)"
   ]
  },
  {
   "cell_type": "code",
   "execution_count": 161,
   "id": "1ce46a8e-354c-4379-9e38-8ac550962004",
   "metadata": {},
   "outputs": [
    {
     "data": {
      "text/plain": [
       "<matplotlib.image.AxesImage at 0x7fab940b5910>"
      ]
     },
     "execution_count": 161,
     "metadata": {},
     "output_type": "execute_result"
    },
    {
     "data": {
      "image/png": "[encoded data removed]",
      "text/plain": [
       "<Figure size 432x288 with 1 Axes>"
      ]
     },
     "metadata": {
      "needs_background": "light"
     },
     "output_type": "display_data"
    }
   ],
   "source": [
    "plt.imshow(img_mask)"
   ]
  },
  {
   "cell_type": "code",
   "execution_count": 155,
   "id": "459d39ce-7e54-49f3-b81b-5248af7f7df3",
   "metadata": {},
   "outputs": [],
   "source": [
    "M = np.bitwise_and(img_mask,img_mask[:,::-1]).sum()"
   ]
  },
  {
   "cell_type": "code",
   "execution_count": 179,
   "id": "730b5345-e4d6-462d-9d5a-950565698447",
   "metadata": {},
   "outputs": [],
   "source": [
    "def symmetric_and(img_mask):\n",
    "    return np.bitwise_and(img_mask,img_mask[:,::-1]).sum()/2"
   ]
  },
  {
   "cell_type": "code",
   "execution_count": 180,
   "id": "7fcc4da3-0793-4306-b97a-d5d98d705e15",
   "metadata": {},
   "outputs": [],
   "source": [
    "symmetry_score = sum([symmetric_and(mask_by_color(img,color)) for color in test_color[:-1]])"
   ]
  },
  {
   "cell_type": "code",
   "execution_count": 181,
   "id": "fc804282-0718-4f18-855d-d16ed8bf9567",
   "metadata": {},
   "outputs": [
    {
     "data": {
      "text/plain": [
       "523.0"
      ]
     },
     "execution_count": 181,
     "metadata": {},
     "output_type": "execute_result"
    }
   ],
   "source": [
    "symmetry_score #Calculated value"
   ]
  },
  {
   "cell_type": "code",
   "execution_count": 195,
   "id": "b3a6ebdd-feb8-4674-824d-b04a3a0dfbfc",
   "metadata": {},
   "outputs": [
    {
     "data": {
      "text/plain": [
       "512.4"
      ]
     },
     "execution_count": 195,
     "metadata": {},
     "output_type": "execute_result"
    }
   ],
   "source": [
    "M/n #Expected value"
   ]
  },
  {
   "cell_type": "code",
   "execution_count": 192,
   "id": "883b0f18-47dc-4cf2-ad1b-11cdb9eb6cb5",
   "metadata": {},
   "outputs": [],
   "source": [
    "def p_value(score,M,n):\n",
    "    P = binom(M,1/n)\n",
    "    if score > P.expect():\n",
    "        return P.cdf(score-P.expect())\n",
    "    else:\n",
    "        return P.cdf(score)"
   ]
  },
  {
   "cell_type": "code",
   "execution_count": 194,
   "id": "4a674ad6-f2f0-41ee-b678-7d43acdc0e72",
   "metadata": {},
   "outputs": [
    {
     "data": {
      "text/plain": [
       "3.3282407062038334e-227"
      ]
     },
     "execution_count": 194,
     "metadata": {},
     "output_type": "execute_result"
    }
   ],
   "source": [
    "p_value(symmetry_score,M,n)*2 #Probability of null hypothesis being true"
   ]
  },
  {
   "cell_type": "code",
   "execution_count": null,
   "id": "6177d980-448e-4555-8866-382588b8416f",
   "metadata": {},
   "outputs": [],
   "source": []
  }
 ],
 "metadata": {
  "kernelspec": {
   "display_name": "Python 3 (ipykernel)",
   "language": "python",
   "name": "python3"
  },
  "language_info": {
   "codemirror_mode": {
    "name": "ipython",
    "version": 3
   },
   "file_extension": ".py",
   "mimetype": "text/x-python",
   "name": "python",
   "nbconvert_exporter": "python",
   "pygments_lexer": "ipython3",
   "version": "3.8.10"
  }
 },
 "nbformat": 4,
 "nbformat_minor": 5
}
