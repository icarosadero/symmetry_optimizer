{
 "cells": [
  {
   "cell_type": "code",
   "execution_count": 12,
   "id": "3d365518",
   "metadata": {},
   "outputs": [],
   "source": [
    "import numpy as np\n",
    "import pandas as pd\n",
    "import seaborn as sns\n",
    "import matplotlib.pyplot as plt\n",
    "from scipy.stats import ttest_1samp\n",
    "from scipy.stats import binom\n",
    "\n",
    "import cvfunc\n",
    "import cv2\n",
    "import symmetry\n",
    "\n",
    "from tqdm import tqdm\n",
    "from glob import glob\n",
    "import os"
   ]
  },
  {
   "cell_type": "markdown",
   "id": "69873da8",
   "metadata": {},
   "source": [
    "**Reading and extracting colors**"
   ]
  },
  {
   "cell_type": "code",
   "execution_count": 13,
   "id": "2dd3ccc2",
   "metadata": {},
   "outputs": [],
   "source": [
    "path = \"sample/*.png\""
   ]
  },
  {
   "cell_type": "code",
   "execution_count": 14,
   "id": "b3fa21e8",
   "metadata": {},
   "outputs": [
    {
     "data": {
      "text/plain": [
       "['sample/East_day105_16Apr2013_N.png',\n",
       " 'sample/East_day105_16Apr2013_S.png',\n",
       " 'sample/East_day105_16Apr2013_mirror.png',\n",
       " 'sample/Office_day261_18Sep2013_mirror.png']"
      ]
     },
     "execution_count": 14,
     "metadata": {},
     "output_type": "execute_result"
    }
   ],
   "source": [
    "sorted(glob(path))"
   ]
  },
  {
   "cell_type": "code",
   "execution_count": 31,
   "id": "93de57cc",
   "metadata": {},
   "outputs": [],
   "source": [
    "pictures = [cvfunc.reduce_colors(cv2.imread(file),n=u) for file,u in zip(sorted(glob(path)),[7,8,8,7])]"
   ]
  },
  {
   "cell_type": "code",
   "execution_count": 32,
   "id": "6bbaad4e",
   "metadata": {},
   "outputs": [],
   "source": [
    "colors = [cvfunc.get_colors(img) for img in pictures]"
   ]
  },
  {
   "cell_type": "code",
   "execution_count": 33,
   "id": "a4789f01",
   "metadata": {},
   "outputs": [
    {
     "data": {
      "text/plain": [
       "(array([[2.7138885e-04, 2.7138885e-04, 2.7138885e-04],\n",
       "        [1.3498724e-01, 3.9799979e-01, 9.4827318e-01],\n",
       "        [3.6131158e-01, 3.6168852e-01, 3.6145204e-01],\n",
       "        [6.4359093e-01, 8.2812446e-01, 7.0244545e-01],\n",
       "        [7.7253091e-01, 9.9998671e-01, 8.4704089e-01],\n",
       "        [9.4073594e-01, 6.8211913e-01, 2.6240980e-04],\n",
       "        [1.0000000e+00, 1.0000000e+00, 1.0000000e+00]], dtype=float32),\n",
       " array([ 289,  147, 1675,  251, 1473, 1076, 5889]))"
      ]
     },
     "execution_count": 33,
     "metadata": {},
     "output_type": "execute_result"
    }
   ],
   "source": [
    "colors[0]"
   ]
  },
  {
   "cell_type": "code",
   "execution_count": 34,
   "id": "93902e1d",
   "metadata": {},
   "outputs": [
    {
     "data": {
      "image/png": "[encoded data removed]",
      "text/plain": [
       "<Figure size 432x288 with 1 Axes>"
      ]
     },
     "metadata": {
      "needs_background": "light"
     },
     "output_type": "display_data"
    },
    {
     "data": {
      "image/png": "[encoded data removed]",
      "text/plain": [
       "<Figure size 432x288 with 1 Axes>"
      ]
     },
     "metadata": {
      "needs_background": "light"
     },
     "output_type": "display_data"
    },
    {
     "data": {
      "image/png": "[encoded data removed]",
      "text/plain": [
       "<Figure size 432x288 with 1 Axes>"
      ]
     },
     "metadata": {
      "needs_background": "light"
     },
     "output_type": "display_data"
    },
    {
     "data": {
      "image/png": "[encoded data removed]",
      "text/plain": [
       "<Figure size 432x288 with 1 Axes>"
      ]
     },
     "metadata": {
      "needs_background": "light"
     },
     "output_type": "display_data"
    }
   ],
   "source": [
    "for img in pictures:\n",
    "    plt.figure()\n",
    "    plt.imshow(img)"
   ]
  },
  {
   "cell_type": "code",
   "execution_count": 19,
   "id": "40bcf250",
   "metadata": {},
   "outputs": [],
   "source": [
    "test_color = colors[0][0]"
   ]
  },
  {
   "cell_type": "code",
   "execution_count": 20,
   "id": "a19acfc7",
   "metadata": {},
   "outputs": [
    {
     "data": {
      "text/plain": [
       "array([[1.4847772e-01, 4.0668282e-01, 9.3622351e-01],\n",
       "       [3.0758035e-01, 3.0760437e-01, 3.0760640e-01],\n",
       "       [6.4359093e-01, 8.2812446e-01, 7.0244545e-01],\n",
       "       [7.6862746e-01, 9.9215686e-01, 8.4313726e-01],\n",
       "       [7.7253360e-01, 9.9999207e-01, 8.4704357e-01],\n",
       "       [9.4073594e-01, 6.8211913e-01, 2.6240980e-04]], dtype=float32)"
      ]
     },
     "execution_count": 20,
     "metadata": {},
     "output_type": "execute_result"
    }
   ],
   "source": [
    "test_color[:-1]"
   ]
  },
  {
   "cell_type": "code",
   "execution_count": 21,
   "id": "d4ce34e3",
   "metadata": {},
   "outputs": [],
   "source": [
    "img = pictures[0]"
   ]
  },
  {
   "cell_type": "code",
   "execution_count": null,
   "id": "ff7a20e1",
   "metadata": {},
   "outputs": [],
   "source": [
    "def mask_by_color(img,color):\n",
    "    return (cvfunc.color_threshold(img,[color],[color])/255).astype(np.uint8)"
   ]
  },
  {
   "cell_type": "code",
   "execution_count": null,
   "id": "4f034d98",
   "metadata": {},
   "outputs": [],
   "source": [
    "img_mask = (cvfunc.color_threshold(img,[color[-1]],[color[-1]],invert=True)/255.0).astype(np.uint8)"
   ]
  },
  {
   "cell_type": "code",
   "execution_count": null,
   "id": "5cc69267",
   "metadata": {},
   "outputs": [],
   "source": [
    "plt.imshow(img_mask)"
   ]
  },
  {
   "cell_type": "code",
   "execution_count": null,
   "id": "f998ec73",
   "metadata": {},
   "outputs": [],
   "source": [
    "M = np.bitwise_and(img_mask,img_mask[:,::-1]).sum()"
   ]
  },
  {
   "cell_type": "code",
   "execution_count": null,
   "id": "aff699b7",
   "metadata": {},
   "outputs": [],
   "source": [
    "def symmetric_and(img_mask):\n",
    "    return np.bitwise_and(img_mask,img_mask[:,::-1]).sum()/2"
   ]
  },
  {
   "cell_type": "code",
   "execution_count": null,
   "id": "210ebdc4",
   "metadata": {},
   "outputs": [],
   "source": [
    "symmetry_score = sum([symmetric_and(mask_by_color(img,color)) for color in test_color[:-1]])"
   ]
  },
  {
   "cell_type": "code",
   "execution_count": null,
   "id": "2805f2e5",
   "metadata": {},
   "outputs": [],
   "source": [
    "symmetry_score # Calculated value"
   ]
  },
  {
   "cell_type": "code",
   "execution_count": null,
   "id": "f3128fef",
   "metadata": {},
   "outputs": [],
   "source": [
    "M/n # Expected value"
   ]
  },
  {
   "cell_type": "code",
   "execution_count": null,
   "id": "eca2a4b8",
   "metadata": {},
   "outputs": [],
   "source": [
    "def p_value(score,M,n):\n",
    "    P = binom(M,1/n)\n",
    "    if score > P.expect():\n",
    "        return P.cdf(score-P.expect())\n",
    "    else:\n",
    "        return P.cdf(score)"
   ]
  },
  {
   "cell_type": "code",
   "execution_count": null,
   "id": "77498a70",
   "metadata": {},
   "outputs": [],
   "source": [
    "p_value(symmetry_score,M,n)*2 #Probability of null hypothesis being true"
   ]
  },
  {
   "cell_type": "code",
   "execution_count": null,
   "id": "4252e2da-a285-4842-ab0b-3fde648fa1ca",
   "metadata": {},
   "outputs": [],
   "source": []
  }
 ],
 "metadata": {
  "kernelspec": {
   "display_name": "Python 3",
   "language": "python",
   "name": "python3"
  },
  "language_info": {
   "codemirror_mode": {
    "name": "ipython",
    "version": 3
   },
   "file_extension": ".py",
   "mimetype": "text/x-python",
   "name": "python",
   "nbconvert_exporter": "python",
   "pygments_lexer": "ipython3",
   "version": "3.9.7"
  }
 },
 "nbformat": 4,
 "nbformat_minor": 5
}
