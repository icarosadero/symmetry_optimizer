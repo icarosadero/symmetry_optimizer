{
 "cells": [
  {
   "cell_type": "code",
   "execution_count": 1,
   "metadata": {},
   "outputs": [],
   "source": [
    "# Import all functions\n",
    "\n",
    "import cv2\n",
    "from tqdm import tqdm\n",
    "import pandas as pd\n",
    "import glob\n",
    "import os\n",
    "import numpy as np\n",
    "import matplotlib.pyplot as plt\n",
    "import json\n",
    "from multiprocessing import Pool\n",
    "from time import time\n",
    "from functools import partial\n",
    "plt.rcParams['figure.figsize'] = [10, 10]\n",
    "import seaborn as sns\n",
    "import datetime\n",
    "\n",
    "import sys\n",
    "import cvfunc\n",
    "import scale\n",
    "import symmetry\n",
    "\n",
    "from cvfunc import color_threshold,auto_crop,auto_crop_color,symmetric_shift\n"
   ]
  },
  {
   "cell_type": "code",
   "execution_count": 2,
   "metadata": {},
   "outputs": [],
   "source": [
    "#\n",
    "# The Color Palette to use:\n",
    "#\n",
    "\n",
    "# BGR and repeated: [B,G,R,B,G,R] \n",
    "# Added/subtracted an adjustment, to give color values a range, i.e. [B-2,G-2,R-2,B+2,G+2,R+2]\n",
    "\n",
    "adj=10 # had to make this larger, because there's color \"noise\" in the shrinked images\n",
    "\n",
    "# want to be able to give a RANGE of color values, but can't go under 0, or above 255. Use inbetween function:\n",
    "def lim(minv, val, maxv):\n",
    "    return min(maxv, max(minv, val))\n",
    "\n",
    "# The color palette from 2021: USE THIS ONE\n",
    "# NOTE: BGR values from color picker is not necesarily accurate, \n",
    "# so make sure to pick out the colors using the \"color_lab\" (or below)\n",
    "# uncertain about DC colors for capped honey, nectar, pollen (put the ?)\n",
    "\n",
    "color_palette = {\n",
    "\"bg\":[255,255,255,255,255,255],\n",
    "\"uncapped_brood\":[lim(0, 240-adj, 255), lim(0, 174-adj, 255), lim(0, 0-adj, 255), \n",
    "                  lim(0, 240+adj, 255), lim(0, 174+adj, 255), lim(0, 0+adj, 255)],\n",
    "\"uncapped_brood_d\":[lim(0, 145-adj, 255), lim(0, 105-adj, 255), lim(0, 1-adj, 255), \n",
    "                    lim(0, 145+adj, 255), lim(0, 105+adj, 255), lim(0, 1+adj, 255)],\n",
    "\"capped_brood\":[lim(0, 255-adj, 255), lim(0, 0-adj, 255), lim(0, 0-adj, 255), \n",
    "                lim(0, 255+adj, 255), lim(0, 0+adj, 255), lim(0, 0+adj, 255)],\n",
    "\"capped_brood_d\":[lim(0, 136-adj, 255), lim(0, 0-adj, 255), lim(0, 0-adj, 255), \n",
    "                  lim(0, 136+adj, 255), lim(0, 0+adj, 255), lim(0, 0+adj, 255)],\n",
    "\"nectar\":[lim(0, 86-adj, 255), lim(0, 255-adj, 255), lim(0, 255-adj, 255), \n",
    "          lim(0, 86+adj, 255), lim(0, 255+adj, 255), lim(0, 255+adj, 255)],\n",
    "\"nectar_d?\":[lim(0, 60-adj, 255), lim(0, 183-adj, 255), lim(0, 183-adj, 255), \n",
    "            lim(0, 60+adj, 255), lim(0, 183+adj, 255), lim(0, 183+adj, 255)],\n",
    "\"honey\":[lim(0, 197-adj, 255), lim(0, 255-adj, 255), lim(0, 216-adj, 255), \n",
    "         lim(0, 197+adj, 255), lim(0, 255+adj, 255), lim(0, 216+adj, 255)],\n",
    "\"honey_d?\":[lim(0, 185-adj, 255), lim(0, 210-adj, 255), lim(0, 168-adj, 255), \n",
    "           lim(0, 185+adj, 255), lim(0, 210+adj, 255), lim(0, 168+adj, 255)],\n",
    "\"empty\":[lim(0, 92-adj, 255), lim(0, 92-adj, 255), lim(0, 92-adj, 255), \n",
    "         lim(0, 92+adj, 255), lim(0, 92+adj, 255), lim(0, 92+adj, 255)],\n",
    "\"empty_d\":[lim(0, 0-adj, 255), lim(0, 0-adj, 255), lim(0, 0-adj, 255), \n",
    "           lim(0, 0+adj, 255), lim(0, 0+adj, 255), lim(0, 0+adj, 255)],\n",
    "\"pollen\":[lim(0, 34-adj, 255), lim(0, 101-adj, 255), lim(0, 242-adj, 255), \n",
    "          lim(0, 34+adj, 255), lim(0, 101+adj, 255), lim(0, 242+adj, 255)],\n",
    "\"pollen_d?\":[lim(0, 29-adj, 255), lim(0, 60-adj, 255), lim(0, 127-adj, 255), \n",
    "            lim(0, 29+adj, 255), lim(0, 60+adj, 255), lim(0, 127+adj, 255)]    \n",
    "}\n",
    "\n",
    "# The color palette from 2013: \n",
    "# color_palette = {\n",
    "# \"bg\":[255,255,255,255,255,255],\n",
    "# \"brood\":[35,50,236,35,50,236],\n",
    "# \"brood_d\":[128,117,227,128,117,227],\n",
    "# \"honey\":[245,33,0,245,33,0],\n",
    "# \"honey_d\":[252,251,117,252,251,117],\n",
    "# \"empty\":[75,250,117,75,250,117],\n",
    "# \"empty_d\":[161,210,172,161,210,172],\n",
    "# \"pollen\":[61,151,235,61,151,235]\n",
    "# }\n",
    "\n",
    "search_ratio = 0.05"
   ]
  },
  {
   "cell_type": "code",
   "execution_count": 3,
   "metadata": {},
   "outputs": [],
   "source": [
    "# Paths:\n",
    "\n",
    "# these are the original full-sized images: \n",
    "original_images_path = './original_images/*/'\n",
    "\n",
    "# first step will be to apply the symmetric shift: \n",
    "symmetric_shift_images_path = './symmetric_shift_images/'\n",
    "\n",
    "# THEN scale them down (otherwise get rough edges from the symmetric shift):\n",
    "scaled_images_path = \"./symmetry_optimizer/shrink\"\n",
    "\n"
   ]
  },
  {
   "cell_type": "code",
   "execution_count": 4,
   "metadata": {},
   "outputs": [
    {
     "name": "stderr",
     "output_type": "stream",
     "text": [
      "Progress: 100%|███████████████████████████████████| 6/6 [00:31<00:00,  5.31s/it]\n"
     ]
    }
   ],
   "source": [
    "# FIRST apply the symmetric shift to each image: \n",
    "\n",
    "for file in tqdm(glob.glob(original_images_path+\"/*.png\"),desc=\"Progress\"): # be sure to have .PNG file! \n",
    "    original = cv2.imread(file)\n",
    "    symmetric_shifted = symmetric_shift(original)\n",
    "    savestring = os.path.join(symmetric_shift_images_path,f\"{os.path.splitext(os.path.basename(file))[0]}.png\")\n",
    "    cv2.imwrite(savestring,symmetric_shifted)\n"
   ]
  },
  {
   "cell_type": "code",
   "execution_count": 5,
   "metadata": {},
   "outputs": [
    {
     "name": "stderr",
     "output_type": "stream",
     "text": [
      "Progress: 100%|███████████████████████████████████| 6/6 [00:04<00:00,  1.25it/s]\n"
     ]
    }
   ],
   "source": [
    "# THEN resize them: \n",
    "# Ideally, the height would be 100 px, but need to remove white space\n",
    "\n",
    "for file in tqdm(glob.glob(symmetric_shift_images_path+\"/*.png\"),desc=\"Progress\"): # be sure to have .PNG file! \n",
    "    image = auto_crop_color(cv2.imread(file))\n",
    "    resized = scale.resize(image,100) # height, in PX - NOW AT 100 PX!!! (obs hive is 100cm high, 1px=1cm=2x2cells)\n",
    "    savestring = os.path.join(scaled_images_path,f\"{os.path.splitext(os.path.basename(file))[0]}.png\")\n",
    "    cv2.imwrite(savestring,resized)\n"
   ]
  },
  {
   "cell_type": "code",
   "execution_count": 6,
   "metadata": {},
   "outputs": [],
   "source": [
    "### NOTE: STILL NEED TO REMOVE EXCESS WHITE SPACE ### OK\n",
    "### NOTE: The shrink images still have a few pixels that deviate from the palette ###"
   ]
  },
  {
   "cell_type": "code",
   "execution_count": 7,
   "metadata": {
    "scrolled": true
   },
   "outputs": [
    {
     "name": "stdout",
     "output_type": "stream",
     "text": [
      "./symmetry_optimizer/shrink/East_day105_16Apr2013_mirror.png\n"
     ]
    },
    {
     "data": {
      "image/png": "[encoded data removed]",
      "text/plain": [
       "<Figure size 720x720 with 1 Axes>"
      ]
     },
     "metadata": {
      "needs_background": "light"
     },
     "output_type": "display_data"
    },
    {
     "name": "stdout",
     "output_type": "stream",
     "text": [
      "./symmetry_optimizer/shrink/Office_day261_18Sep2013_W.png\n"
     ]
    },
    {
     "data": {
      "image/png": "[encoded data removed]",
      "text/plain": [
       "<Figure size 720x720 with 1 Axes>"
      ]
     },
     "metadata": {
      "needs_background": "light"
     },
     "output_type": "display_data"
    },
    {
     "name": "stdout",
     "output_type": "stream",
     "text": [
      "./symmetry_optimizer/shrink/Office_day261_18Sep2013_E.png\n"
     ]
    },
    {
     "data": {
      "image/png": "[encoded data removed]",
      "text/plain": [
       "<Figure size 720x720 with 1 Axes>"
      ]
     },
     "metadata": {
      "needs_background": "light"
     },
     "output_type": "display_data"
    },
    {
     "name": "stdout",
     "output_type": "stream",
     "text": [
      "./symmetry_optimizer/shrink/Office_day261_18Sep2013_mirror.png\n"
     ]
    },
    {
     "data": {
      "image/png": "[encoded data removed]",
      "text/plain": [
       "<Figure size 720x720 with 1 Axes>"
      ]
     },
     "metadata": {
      "needs_background": "light"
     },
     "output_type": "display_data"
    },
    {
     "name": "stdout",
     "output_type": "stream",
     "text": [
      "./symmetry_optimizer/shrink/East_day105_16Apr2013_S.png\n"
     ]
    },
    {
     "data": {
      "image/png": "[encoded data removed]",
      "text/plain": [
       "<Figure size 720x720 with 1 Axes>"
      ]
     },
     "metadata": {
      "needs_background": "light"
     },
     "output_type": "display_data"
    },
    {
     "name": "stdout",
     "output_type": "stream",
     "text": [
      "./symmetry_optimizer/shrink/East_day105_16Apr2013_N.png\n"
     ]
    },
    {
     "data": {
      "image/png": "[encoded data removed]",
      "text/plain": [
       "<Figure size 720x720 with 1 Axes>"
      ]
     },
     "metadata": {
      "needs_background": "light"
     },
     "output_type": "display_data"
    }
   ],
   "source": [
    "# Just for early versions, show all images to make sure all good: \n",
    "\n",
    "glob_str = scaled_images_path+'/*'\n",
    "filenames = glob.glob(glob_str)\n",
    "\n",
    "for i in filenames:\n",
    "    print(i)\n",
    "    img = cv2.imread(i)\n",
    "    plt.imshow(img)\n",
    "    plt.show()"
   ]
  },
  {
   "cell_type": "code",
   "execution_count": 8,
   "metadata": {},
   "outputs": [],
   "source": [
    "\n",
    "# Here is where we make the overall dataframe\n",
    "# Uses symmetry.process_one\n",
    "\n",
    "# THIS is where it would be important to incorporate a baseline symmetry\n",
    "# i.e. we use symmetry.process_one to calculate the symmetry, but take into account the overall image\n",
    "# (the original way I was going to do this was by shuffling the image, and subtracting the shuffled value from the observed value)\n",
    "\n"
   ]
  },
  {
   "cell_type": "code",
   "execution_count": 9,
   "metadata": {},
   "outputs": [
    {
     "data": {
      "text/plain": [
       "<matplotlib.image.AxesImage at 0x7fe9915027f0>"
      ]
     },
     "execution_count": 9,
     "metadata": {},
     "output_type": "execute_result"
    },
    {
     "data": {
      "image/png": "[encoded data removed]",
      "text/plain": [
       "<Figure size 720x720 with 1 Axes>"
      ]
     },
     "metadata": {
      "needs_background": "light"
     },
     "output_type": "display_data"
    }
   ],
   "source": [
    "#Since you're exclusively using angles of 0 and 90 degrees, you might as well just transpose the layers"
   ]
  },
  {
   "cell_type": "code",
   "execution_count": 23,
   "metadata": {},
   "outputs": [
    {
     "name": "stdout",
     "output_type": "stream",
     "text": [
      "E,S,std 799.5 8216.0 27.071664152763123\n",
      "E,S,std 777.5 2452.0 26.69659778573542\n",
      "E,S,std 567.0833333333334 3827.0 22.799701508767363\n",
      "E,S,std 565.8333333333334 5846.0 22.77455939322549\n",
      "E,S,std 638.5 4242.0 24.192801959811653\n",
      "E,S,std 638.3333333333334 6666.0 24.189644248911325\n",
      "E,S,std 1132.5833333333333 11617.0 32.22113264441349\n",
      "E,S,std 1187.0 12310.0 32.98610818713437\n",
      "E,S,std 382.3333333333333 1758.0 18.720903349524086\n",
      "E,S,std 388.5 1166.0 18.87127446676562\n",
      "E,S,std 386.5833333333333 1579.0 18.824666147253595\n",
      "E,S,std 399.0 1306.0 19.12459149890528\n"
     ]
    }
   ],
   "source": [
    "df_stochastic = []\n",
    "for i in filenames:\n",
    "    img = cv2.imread(i)\n",
    "    row = {\n",
    "        \"name\": os.path.basename(i),\n",
    "        \"score0\": symmetry.symmetry_stochastic(img,color_dict=color_palette),\n",
    "        \"score90\": symmetry.symmetry_stochastic(img.transpose(1,0,2),color_dict=color_palette)\n",
    "    }\n",
    "    df_stochastic.append(row)\n",
    "df_stochastic = pd.DataFrame(df_stochastic)"
   ]
  },
  {
   "cell_type": "markdown",
   "metadata": {},
   "source": [
    "This score ranges from -1 to 1. Positive values indicate symmetry whereas negative ones indicate asymmetry. Getting a value of zero means that the color distribution is expected from a binomial distribution."
   ]
  },
  {
   "cell_type": "code",
   "execution_count": 19,
   "metadata": {},
   "outputs": [
    {
     "data": {
      "text/html": [
       "<div>\n",
       "<style scoped>\n",
       "    .dataframe tbody tr th:only-of-type {\n",
       "        vertical-align: middle;\n",
       "    }\n",
       "\n",
       "    .dataframe tbody tr th {\n",
       "        vertical-align: top;\n",
       "    }\n",
       "\n",
       "    .dataframe thead th {\n",
       "        text-align: right;\n",
       "    }\n",
       "</style>\n",
       "<table border=\"1\" class=\"dataframe\">\n",
       "  <thead>\n",
       "    <tr style=\"text-align: right;\">\n",
       "      <th></th>\n",
       "      <th>score0</th>\n",
       "      <th>score90</th>\n",
       "    </tr>\n",
       "  </thead>\n",
       "  <tbody>\n",
       "    <tr>\n",
       "      <th>0</th>\n",
       "      <td>0.896059</td>\n",
       "      <td>0.939276</td>\n",
       "    </tr>\n",
       "    <tr>\n",
       "      <th>1</th>\n",
       "      <td>0.905140</td>\n",
       "      <td>0.874691</td>\n",
       "    </tr>\n",
       "    <tr>\n",
       "      <th>2</th>\n",
       "      <td>0.911119</td>\n",
       "      <td>0.880451</td>\n",
       "    </tr>\n",
       "    <tr>\n",
       "      <th>3</th>\n",
       "      <td>0.913412</td>\n",
       "      <td>0.911688</td>\n",
       "    </tr>\n",
       "    <tr>\n",
       "      <th>4</th>\n",
       "      <td>0.905295</td>\n",
       "      <td>0.916148</td>\n",
       "    </tr>\n",
       "    <tr>\n",
       "      <th>5</th>\n",
       "      <td>0.909158</td>\n",
       "      <td>0.915234</td>\n",
       "    </tr>\n",
       "  </tbody>\n",
       "</table>\n",
       "</div>"
      ],
      "text/plain": [
       "     score0   score90\n",
       "0  0.896059  0.939276\n",
       "1  0.905140  0.874691\n",
       "2  0.911119  0.880451\n",
       "3  0.913412  0.911688\n",
       "4  0.905295  0.916148\n",
       "5  0.909158  0.915234"
      ]
     },
     "execution_count": 19,
     "metadata": {},
     "output_type": "execute_result"
    }
   ],
   "source": [
    "df_stochastic"
   ]
  },
  {
   "cell_type": "code",
   "execution_count": 12,
   "metadata": {},
   "outputs": [
    {
     "name": "stdout",
     "output_type": "stream",
     "text": [
      "2021-11-16 00:06:08.072717\n",
      "/Users/michaelsmith/Documents/GitHub/symmetry_optimizer/shrink/East_day105_16Apr2013_S.png\n",
      "process_one 0.02749800682067871\n",
      "process_one 0.02808403968811035\n",
      "/Users/michaelsmith/Documents/GitHub/symmetry_optimizer/shrink/East_day105_16Apr2013_N.png\n",
      "process_one 0.024055004119873047\n",
      "process_one 0.024552106857299805\n",
      "/Users/michaelsmith/Documents/GitHub/symmetry_optimizer/shrink/Office_day261_18Sep2013_W.png\n",
      "process_one 0.010971784591674805\n",
      "process_one 0.011726856231689453\n",
      "/Users/michaelsmith/Documents/GitHub/symmetry_optimizer/shrink/Office_day261_18Sep2013_mirror.png\n",
      "process_one 0.05464768409729004\n",
      "process_one 0.06368422508239746\n",
      "/Users/michaelsmith/Documents/GitHub/symmetry_optimizer/shrink/Office_day261_18Sep2013_E.png\n",
      "process_one 0.02117466926574707\n",
      "process_one 0.023184776306152344\n",
      "/Users/michaelsmith/Documents/GitHub/symmetry_optimizer/shrink/East_day105_16Apr2013_mirror.png\n",
      "process_one 0.05707287788391113\n",
      "process_one 0.06406092643737793\n",
      "2021-11-16 00:06:08.551560\n"
     ]
    }
   ],
   "source": [
    "\n",
    "print(datetime.datetime.now())\n",
    "\n",
    "each_img_dfs=[]\n",
    "\n",
    "for i in filenames:\n",
    "    print(i)\n",
    "    img = cv2.imread(i) # import the image\n",
    "    d0,pictures0 = symmetry.process_one(img,search_ratio,color_dict=color_palette,angle=0,auto_crop=False) # angle 0 = vertical line\n",
    "    d90,pictures90 = symmetry.process_one(img,search_ratio,color_dict=color_palette,angle=90,auto_crop=False) # angle 90 = horizontal\n",
    "    # convert lists to dataframe\n",
    "    d0 = pd.DataFrame(d0)\n",
    "    d0[\"filename\"] = i\n",
    "    d90 = pd.DataFrame(d90)\n",
    "    d90[\"filename\"] = i\n",
    "    \n",
    "    # is_mirrored = (\"left\" in i) and (\"right\" in i)\n",
    "    is_mirrored = (\"irror\" in i) # changed this to \"irror\" because sometimes it's lower case m, sometimes upper case\n",
    "    d0[\"mirrored\"] = is_mirrored\n",
    "    d90[\"mirrored\"] = is_mirrored\n",
    "    \n",
    "    # add COLONY: \n",
    "    d0['colony'] = i.rsplit('/',1)[-1].rsplit('_')[0]\n",
    "    d90['colony'] = i.rsplit('/',1)[-1].rsplit('_')[0]\n",
    "    \n",
    "    # add EXP DATE, as an integer:\n",
    "    d0['expday'] = int(i.rsplit('/',1)[-1].rsplit('_')[1][3:])\n",
    "    d90['expday'] = int(i.rsplit('/',1)[-1].rsplit('_')[1][3:])\n",
    "    \n",
    "    # add DATE (right now its a string, would also be useful as a datetime)\n",
    "    d0['date'] = i.rsplit('/',1)[-1].rsplit('_')[2]\n",
    "    d90['date'] = i.rsplit('/',1)[-1].rsplit('_')[2]\n",
    "    \n",
    "    # SIDE of the nest\n",
    "    d0['side'] = i.rsplit('/',1)[-1].rsplit('_')[3]\n",
    "    d90['side'] = i.rsplit('/',1)[-1].rsplit('_')[3]\n",
    "    \n",
    "    #[ICARO]This part will calculate the \"size\" of the pictures as a pixel count.\n",
    "    d0[\"pixel_count\"] = list(map(lambda x: (x[\"fig\"]!=0).sum() ,pictures0))\n",
    "    d90[\"pixel_count\"] = d0[\"pixel_count\"]\n",
    "    \n",
    "    # append the dataframes to list\n",
    "    each_img_dfs.append(d0)\n",
    "    each_img_dfs.append(d90)\n",
    "    \n",
    "# concatenate all the dataframes into one: \n",
    "all_dfs=pd.concat(each_img_dfs, ignore_index=True)\n",
    "\n",
    "#[ICARO]In order to flip the scores so that the highest symmetry is 1: \n",
    "all_dfs[\"score_COR_flip\"] = 1-all_dfs[\"score_COR\"]\n",
    "\n",
    "# ADD something that tells you if its' X, Y, or Z-axis symmetry... \n",
    "# so, if mirrored = false, then angle 0 = X-axis symmetry (left-right), angle 90 = Y-axis symmetry (top-bottom)\n",
    "# if mirrored = TRUE, then angle 0 = Z-axis symmetry (opposite sides), and angle 90, we can ignore\n",
    "def conditions(s):\n",
    "    if (s['mirrored'] == False) and (s['angle'] == 0):\n",
    "        return 'X-axis'\n",
    "    elif (s['mirrored'] == False) and (s['angle'] == 90):\n",
    "        return 'Y-axis'\n",
    "    elif (s['mirrored'] == True) and (s['angle'] == 0):\n",
    "        return 'Z-axis'\n",
    "    else:\n",
    "        return 'NA'\n",
    "\n",
    "all_dfs['sym_type'] = all_dfs.apply(conditions, axis=1)\n",
    "\n",
    "print(datetime.datetime.now())\n",
    "    \n"
   ]
  },
  {
   "cell_type": "code",
   "execution_count": 13,
   "metadata": {},
   "outputs": [
    {
     "data": {
      "text/html": [
       "<div>\n",
       "<style scoped>\n",
       "    .dataframe tbody tr th:only-of-type {\n",
       "        vertical-align: middle;\n",
       "    }\n",
       "\n",
       "    .dataframe tbody tr th {\n",
       "        vertical-align: top;\n",
       "    }\n",
       "\n",
       "    .dataframe thead th {\n",
       "        text-align: right;\n",
       "    }\n",
       "</style>\n",
       "<table border=\"1\" class=\"dataframe\">\n",
       "  <thead>\n",
       "    <tr style=\"text-align: right;\">\n",
       "      <th></th>\n",
       "      <th>angle</th>\n",
       "      <th>x_MSE</th>\n",
       "      <th>score_MSE</th>\n",
       "      <th>x_COR</th>\n",
       "      <th>score_COR</th>\n",
       "      <th>id</th>\n",
       "      <th>R</th>\n",
       "      <th>G</th>\n",
       "      <th>B</th>\n",
       "      <th>filename</th>\n",
       "      <th>mirrored</th>\n",
       "      <th>colony</th>\n",
       "      <th>expday</th>\n",
       "      <th>date</th>\n",
       "      <th>side</th>\n",
       "      <th>pixel_count</th>\n",
       "      <th>score_COR_flip</th>\n",
       "      <th>sym_type</th>\n",
       "    </tr>\n",
       "  </thead>\n",
       "  <tbody>\n",
       "    <tr>\n",
       "      <th>0</th>\n",
       "      <td>0</td>\n",
       "      <td>53.0</td>\n",
       "      <td>0.006999</td>\n",
       "      <td>53.0</td>\n",
       "      <td>0.674658</td>\n",
       "      <td>composition</td>\n",
       "      <td>1.000000</td>\n",
       "      <td>1.000000</td>\n",
       "      <td>1.000000</td>\n",
       "      <td>/Users/michaelsmith/Documents/GitHub/symmetry_...</td>\n",
       "      <td>False</td>\n",
       "      <td>East</td>\n",
       "      <td>105</td>\n",
       "      <td>16Apr2013</td>\n",
       "      <td>S.png</td>\n",
       "      <td>3248</td>\n",
       "      <td>0.325342</td>\n",
       "      <td>X-axis</td>\n",
       "    </tr>\n",
       "    <tr>\n",
       "      <th>1</th>\n",
       "      <td>0</td>\n",
       "      <td>53.0</td>\n",
       "      <td>0.007091</td>\n",
       "      <td>53.0</td>\n",
       "      <td>0.939623</td>\n",
       "      <td>uncapped_brood</td>\n",
       "      <td>0.901961</td>\n",
       "      <td>0.643137</td>\n",
       "      <td>0.000000</td>\n",
       "      <td>/Users/michaelsmith/Documents/GitHub/symmetry_...</td>\n",
       "      <td>False</td>\n",
       "      <td>East</td>\n",
       "      <td>105</td>\n",
       "      <td>16Apr2013</td>\n",
       "      <td>S.png</td>\n",
       "      <td>530</td>\n",
       "      <td>0.060377</td>\n",
       "      <td>X-axis</td>\n",
       "    </tr>\n",
       "    <tr>\n",
       "      <th>2</th>\n",
       "      <td>0</td>\n",
       "      <td>53.0</td>\n",
       "      <td>0.003975</td>\n",
       "      <td>53.0</td>\n",
       "      <td>0.743316</td>\n",
       "      <td>honey</td>\n",
       "      <td>0.733333</td>\n",
       "      <td>0.960784</td>\n",
       "      <td>0.807843</td>\n",
       "      <td>/Users/michaelsmith/Documents/GitHub/symmetry_...</td>\n",
       "      <td>False</td>\n",
       "      <td>East</td>\n",
       "      <td>105</td>\n",
       "      <td>16Apr2013</td>\n",
       "      <td>S.png</td>\n",
       "      <td>1122</td>\n",
       "      <td>0.256684</td>\n",
       "      <td>X-axis</td>\n",
       "    </tr>\n",
       "    <tr>\n",
       "      <th>3</th>\n",
       "      <td>0</td>\n",
       "      <td>53.0</td>\n",
       "      <td>0.001798</td>\n",
       "      <td>53.0</td>\n",
       "      <td>0.404444</td>\n",
       "      <td>empty</td>\n",
       "      <td>0.321569</td>\n",
       "      <td>0.321569</td>\n",
       "      <td>0.321569</td>\n",
       "      <td>/Users/michaelsmith/Documents/GitHub/symmetry_...</td>\n",
       "      <td>False</td>\n",
       "      <td>East</td>\n",
       "      <td>105</td>\n",
       "      <td>16Apr2013</td>\n",
       "      <td>S.png</td>\n",
       "      <td>1350</td>\n",
       "      <td>0.595556</td>\n",
       "      <td>X-axis</td>\n",
       "    </tr>\n",
       "    <tr>\n",
       "      <th>4</th>\n",
       "      <td>0</td>\n",
       "      <td>53.0</td>\n",
       "      <td>0.030769</td>\n",
       "      <td>53.0</td>\n",
       "      <td>1.000000</td>\n",
       "      <td>empty_d</td>\n",
       "      <td>0.000000</td>\n",
       "      <td>0.000000</td>\n",
       "      <td>0.000000</td>\n",
       "      <td>/Users/michaelsmith/Documents/GitHub/symmetry_...</td>\n",
       "      <td>False</td>\n",
       "      <td>East</td>\n",
       "      <td>105</td>\n",
       "      <td>16Apr2013</td>\n",
       "      <td>S.png</td>\n",
       "      <td>0</td>\n",
       "      <td>0.000000</td>\n",
       "      <td>X-axis</td>\n",
       "    </tr>\n",
       "    <tr>\n",
       "      <th>...</th>\n",
       "      <td>...</td>\n",
       "      <td>...</td>\n",
       "      <td>...</td>\n",
       "      <td>...</td>\n",
       "      <td>...</td>\n",
       "      <td>...</td>\n",
       "      <td>...</td>\n",
       "      <td>...</td>\n",
       "      <td>...</td>\n",
       "      <td>...</td>\n",
       "      <td>...</td>\n",
       "      <td>...</td>\n",
       "      <td>...</td>\n",
       "      <td>...</td>\n",
       "      <td>...</td>\n",
       "      <td>...</td>\n",
       "      <td>...</td>\n",
       "      <td>...</td>\n",
       "    </tr>\n",
       "    <tr>\n",
       "      <th>67</th>\n",
       "      <td>90</td>\n",
       "      <td>107.0</td>\n",
       "      <td>0.001866</td>\n",
       "      <td>107.0</td>\n",
       "      <td>0.500931</td>\n",
       "      <td>uncapped_brood</td>\n",
       "      <td>0.901961</td>\n",
       "      <td>0.643137</td>\n",
       "      <td>0.000000</td>\n",
       "      <td>/Users/michaelsmith/Documents/GitHub/symmetry_...</td>\n",
       "      <td>True</td>\n",
       "      <td>East</td>\n",
       "      <td>105</td>\n",
       "      <td>16Apr2013</td>\n",
       "      <td>mirror.png</td>\n",
       "      <td>1074</td>\n",
       "      <td>0.499069</td>\n",
       "      <td>NA</td>\n",
       "    </tr>\n",
       "    <tr>\n",
       "      <th>68</th>\n",
       "      <td>90</td>\n",
       "      <td>107.0</td>\n",
       "      <td>0.002238</td>\n",
       "      <td>107.0</td>\n",
       "      <td>0.830189</td>\n",
       "      <td>honey</td>\n",
       "      <td>0.733333</td>\n",
       "      <td>0.960784</td>\n",
       "      <td>0.807843</td>\n",
       "      <td>/Users/michaelsmith/Documents/GitHub/symmetry_...</td>\n",
       "      <td>True</td>\n",
       "      <td>East</td>\n",
       "      <td>105</td>\n",
       "      <td>16Apr2013</td>\n",
       "      <td>mirror.png</td>\n",
       "      <td>2226</td>\n",
       "      <td>0.169811</td>\n",
       "      <td>NA</td>\n",
       "    </tr>\n",
       "    <tr>\n",
       "      <th>69</th>\n",
       "      <td>90</td>\n",
       "      <td>107.0</td>\n",
       "      <td>0.001709</td>\n",
       "      <td>107.0</td>\n",
       "      <td>0.738426</td>\n",
       "      <td>empty</td>\n",
       "      <td>0.321569</td>\n",
       "      <td>0.321569</td>\n",
       "      <td>0.321569</td>\n",
       "      <td>/Users/michaelsmith/Documents/GitHub/symmetry_...</td>\n",
       "      <td>True</td>\n",
       "      <td>East</td>\n",
       "      <td>105</td>\n",
       "      <td>16Apr2013</td>\n",
       "      <td>mirror.png</td>\n",
       "      <td>2592</td>\n",
       "      <td>0.261574</td>\n",
       "      <td>NA</td>\n",
       "    </tr>\n",
       "    <tr>\n",
       "      <th>70</th>\n",
       "      <td>90</td>\n",
       "      <td>107.0</td>\n",
       "      <td>0.014184</td>\n",
       "      <td>107.0</td>\n",
       "      <td>1.000000</td>\n",
       "      <td>empty_d</td>\n",
       "      <td>0.000000</td>\n",
       "      <td>0.000000</td>\n",
       "      <td>0.000000</td>\n",
       "      <td>/Users/michaelsmith/Documents/GitHub/symmetry_...</td>\n",
       "      <td>True</td>\n",
       "      <td>East</td>\n",
       "      <td>105</td>\n",
       "      <td>16Apr2013</td>\n",
       "      <td>mirror.png</td>\n",
       "      <td>0</td>\n",
       "      <td>0.000000</td>\n",
       "      <td>NA</td>\n",
       "    </tr>\n",
       "    <tr>\n",
       "      <th>71</th>\n",
       "      <td>90</td>\n",
       "      <td>107.0</td>\n",
       "      <td>0.039256</td>\n",
       "      <td>107.0</td>\n",
       "      <td>0.863636</td>\n",
       "      <td>pollen</td>\n",
       "      <td>0.094118</td>\n",
       "      <td>0.356863</td>\n",
       "      <td>0.909804</td>\n",
       "      <td>/Users/michaelsmith/Documents/GitHub/symmetry_...</td>\n",
       "      <td>True</td>\n",
       "      <td>East</td>\n",
       "      <td>105</td>\n",
       "      <td>16Apr2013</td>\n",
       "      <td>mirror.png</td>\n",
       "      <td>132</td>\n",
       "      <td>0.136364</td>\n",
       "      <td>NA</td>\n",
       "    </tr>\n",
       "  </tbody>\n",
       "</table>\n",
       "<p>72 rows × 18 columns</p>\n",
       "</div>"
      ],
      "text/plain": [
       "    angle  x_MSE  score_MSE  x_COR  score_COR              id         R  \\\n",
       "0       0   53.0   0.006999   53.0   0.674658     composition  1.000000   \n",
       "1       0   53.0   0.007091   53.0   0.939623  uncapped_brood  0.901961   \n",
       "2       0   53.0   0.003975   53.0   0.743316           honey  0.733333   \n",
       "3       0   53.0   0.001798   53.0   0.404444           empty  0.321569   \n",
       "4       0   53.0   0.030769   53.0   1.000000         empty_d  0.000000   \n",
       "..    ...    ...        ...    ...        ...             ...       ...   \n",
       "67     90  107.0   0.001866  107.0   0.500931  uncapped_brood  0.901961   \n",
       "68     90  107.0   0.002238  107.0   0.830189           honey  0.733333   \n",
       "69     90  107.0   0.001709  107.0   0.738426           empty  0.321569   \n",
       "70     90  107.0   0.014184  107.0   1.000000         empty_d  0.000000   \n",
       "71     90  107.0   0.039256  107.0   0.863636          pollen  0.094118   \n",
       "\n",
       "           G         B                                           filename  \\\n",
       "0   1.000000  1.000000  /Users/michaelsmith/Documents/GitHub/symmetry_...   \n",
       "1   0.643137  0.000000  /Users/michaelsmith/Documents/GitHub/symmetry_...   \n",
       "2   0.960784  0.807843  /Users/michaelsmith/Documents/GitHub/symmetry_...   \n",
       "3   0.321569  0.321569  /Users/michaelsmith/Documents/GitHub/symmetry_...   \n",
       "4   0.000000  0.000000  /Users/michaelsmith/Documents/GitHub/symmetry_...   \n",
       "..       ...       ...                                                ...   \n",
       "67  0.643137  0.000000  /Users/michaelsmith/Documents/GitHub/symmetry_...   \n",
       "68  0.960784  0.807843  /Users/michaelsmith/Documents/GitHub/symmetry_...   \n",
       "69  0.321569  0.321569  /Users/michaelsmith/Documents/GitHub/symmetry_...   \n",
       "70  0.000000  0.000000  /Users/michaelsmith/Documents/GitHub/symmetry_...   \n",
       "71  0.356863  0.909804  /Users/michaelsmith/Documents/GitHub/symmetry_...   \n",
       "\n",
       "    mirrored colony  expday       date        side  pixel_count  \\\n",
       "0      False   East     105  16Apr2013       S.png         3248   \n",
       "1      False   East     105  16Apr2013       S.png          530   \n",
       "2      False   East     105  16Apr2013       S.png         1122   \n",
       "3      False   East     105  16Apr2013       S.png         1350   \n",
       "4      False   East     105  16Apr2013       S.png            0   \n",
       "..       ...    ...     ...        ...         ...          ...   \n",
       "67      True   East     105  16Apr2013  mirror.png         1074   \n",
       "68      True   East     105  16Apr2013  mirror.png         2226   \n",
       "69      True   East     105  16Apr2013  mirror.png         2592   \n",
       "70      True   East     105  16Apr2013  mirror.png            0   \n",
       "71      True   East     105  16Apr2013  mirror.png          132   \n",
       "\n",
       "    score_COR_flip sym_type  \n",
       "0         0.325342   X-axis  \n",
       "1         0.060377   X-axis  \n",
       "2         0.256684   X-axis  \n",
       "3         0.595556   X-axis  \n",
       "4         0.000000   X-axis  \n",
       "..             ...      ...  \n",
       "67        0.499069       NA  \n",
       "68        0.169811       NA  \n",
       "69        0.261574       NA  \n",
       "70        0.000000       NA  \n",
       "71        0.136364       NA  \n",
       "\n",
       "[72 rows x 18 columns]"
      ]
     },
     "execution_count": 13,
     "metadata": {},
     "output_type": "execute_result"
    }
   ],
   "source": [
    "all_dfs"
   ]
  },
  {
   "cell_type": "code",
   "execution_count": 14,
   "metadata": {},
   "outputs": [
    {
     "data": {
      "image/png": "[encoded data removed]",
      "text/plain": [
       "<Figure size 360x360 with 1 Axes>"
      ]
     },
     "metadata": {
      "needs_background": "light"
     },
     "output_type": "display_data"
    }
   ],
   "source": [
    "plt.figure(figsize=(5,5))\n",
    "sns.boxplot(x='sym_type', y='score_COR_flip',\n",
    "                data=all_dfs[all_dfs['sym_type']!='NA']) # take out the NA class\n",
    "\n",
    "sns.stripplot(x = \"sym_type\",\n",
    "              y = \"score_COR_flip\",\n",
    "              color='black',\n",
    "              s=6, alpha=0.4,\n",
    "              # jitter=0.1,\n",
    "              data = all_dfs[all_dfs['sym_type']!='NA'])\n",
    "\n",
    "sns.despine()\n",
    "plt.ylim(-0.05,1.05)\n",
    "# plt.legend(bbox_to_anchor=(1.05, 1), loc=2, borderaxespad=0.)\n",
    "plt.show()\n"
   ]
  },
  {
   "cell_type": "code",
   "execution_count": 15,
   "metadata": {},
   "outputs": [
    {
     "data": {
      "text/plain": [
       "<matplotlib.legend.Legend at 0x13f1f3940>"
      ]
     },
     "execution_count": 15,
     "metadata": {},
     "output_type": "execute_result"
    },
    {
     "data": {
      "image/png": "[encoded data removed]",
      "text/plain": [
       "<Figure size 360x360 with 1 Axes>"
      ]
     },
     "metadata": {
      "needs_background": "light"
     },
     "output_type": "display_data"
    }
   ],
   "source": [
    "plt.figure(figsize=(5,5))\n",
    "sns.boxplot(x='sym_type', y='score_COR_flip',\n",
    "                hue='id', \n",
    "                data=all_dfs[all_dfs['sym_type']!='NA']) # take out the NA class\n",
    "\n",
    "plt.ylim(-0.05,1.05)\n",
    "sns.despine()\n",
    "plt.legend(bbox_to_anchor=(1.05, 1), loc=2, borderaxespad=0.)"
   ]
  },
  {
   "cell_type": "code",
   "execution_count": null,
   "metadata": {},
   "outputs": [],
   "source": []
  },
  {
   "cell_type": "code",
   "execution_count": null,
   "metadata": {},
   "outputs": [],
   "source": []
  },
  {
   "cell_type": "code",
   "execution_count": null,
   "metadata": {},
   "outputs": [],
   "source": []
  },
  {
   "cell_type": "code",
   "execution_count": null,
   "metadata": {},
   "outputs": [],
   "source": []
  },
  {
   "cell_type": "code",
   "execution_count": null,
   "metadata": {},
   "outputs": [],
   "source": []
  }
 ],
 "metadata": {
  "kernelspec": {
   "display_name": "Python 3 (ipykernel)",
   "language": "python",
   "name": "python3"
  },
  "language_info": {
   "codemirror_mode": {
    "name": "ipython",
    "version": 3
   },
   "file_extension": ".py",
   "mimetype": "text/x-python",
   "name": "python",
   "nbconvert_exporter": "python",
   "pygments_lexer": "ipython3",
   "version": "3.8.10"
  }
 },
 "nbformat": 4,
 "nbformat_minor": 4
}
