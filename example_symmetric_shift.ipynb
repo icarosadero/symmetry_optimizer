{
 "cells": [
  {
   "cell_type": "code",
   "execution_count": 1,
   "id": "0dc69e94-02b1-4692-a949-44f0b9e4494e",
   "metadata": {},
   "outputs": [],
   "source": [
    "import cv2\n",
    "import numpy as np\n",
    "from cvfunc import color_threshold,auto_crop,symmetric_shift\n",
    "import matplotlib.pyplot as plt\n",
    "import pandas as pd"
   ]
  },
  {
   "cell_type": "code",
   "execution_count": 2,
   "id": "8568833f-7bf9-41fb-820b-a6137b9a5a8c",
   "metadata": {},
   "outputs": [],
   "source": [
    "img = cv2.imread(\"square.png\")"
   ]
  },
  {
   "cell_type": "code",
   "execution_count": 3,
   "id": "2d09a90c-69de-4991-86d4-2438593db8f7",
   "metadata": {},
   "outputs": [
    {
     "data": {
      "text/plain": [
       "<matplotlib.image.AxesImage at 0x7ff05a085370>"
      ]
     },
     "execution_count": 3,
     "metadata": {},
     "output_type": "execute_result"
    },
    {
     "data": {
      "image/png": "[encoded data removed]",
      "text/plain": [
       "<Figure size 432x288 with 1 Axes>"
      ]
     },
     "metadata": {
      "needs_background": "light"
     },
     "output_type": "display_data"
    }
   ],
   "source": [
    "plt.imshow(img)"
   ]
  },
  {
   "cell_type": "code",
   "execution_count": 4,
   "id": "8a47b93f-5974-4f1d-a93d-80e643742bd7",
   "metadata": {},
   "outputs": [],
   "source": [
    "img_h = symmetric_shift(img)"
   ]
  },
  {
   "cell_type": "code",
   "execution_count": 5,
   "id": "e7b95065-7bcc-4859-a1ae-b22e81dfd18c",
   "metadata": {},
   "outputs": [
    {
     "data": {
      "text/plain": [
       "<matplotlib.image.AxesImage at 0x7ff059a90460>"
      ]
     },
     "execution_count": 5,
     "metadata": {},
     "output_type": "execute_result"
    },
    {
     "data": {
      "image/png": "[encoded data removed]",
      "text/plain": [
       "<Figure size 432x288 with 1 Axes>"
      ]
     },
     "metadata": {
      "needs_background": "light"
     },
     "output_type": "display_data"
    }
   ],
   "source": [
    "plt.imshow(img_h)"
   ]
  },
  {
   "cell_type": "code",
   "execution_count": null,
   "id": "3a05e4e5-c29f-4b42-9421-302fee91a003",
   "metadata": {},
   "outputs": [],
   "source": []
  }
 ],
 "metadata": {
  "kernelspec": {
   "display_name": "Python 3 (ipykernel)",
   "language": "python",
   "name": "python3"
  },
  "language_info": {
   "codemirror_mode": {
    "name": "ipython",
    "version": 3
   },
   "file_extension": ".py",
   "mimetype": "text/x-python",
   "name": "python",
   "nbconvert_exporter": "python",
   "pygments_lexer": "ipython3",
   "version": "3.8.10"
  }
 },
 "nbformat": 4,
 "nbformat_minor": 5
}
