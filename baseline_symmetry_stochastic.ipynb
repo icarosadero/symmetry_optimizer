{
 "cells": [
  {
   "cell_type": "code",
   "execution_count": 68,
   "id": "49d13fdd-0d6c-459b-b76b-b697e5475fb4",
   "metadata": {},
   "outputs": [],
   "source": [
    "import numpy as np\n",
    "import matplotlib.pyplot as plt\n",
    "import seaborn as sns"
   ]
  },
  {
   "cell_type": "code",
   "execution_count": 69,
   "id": "47c1b841-d8c1-4336-a44a-b41251761b70",
   "metadata": {},
   "outputs": [],
   "source": [
    "n = 6"
   ]
  },
  {
   "cell_type": "code",
   "execution_count": 70,
   "id": "b0139b56-f048-4b1a-b406-ff4f0ff86cb0",
   "metadata": {},
   "outputs": [],
   "source": [
    "A = np.random.randint(0,2,(100,100)).astype(int)"
   ]
  },
  {
   "cell_type": "code",
   "execution_count": 71,
   "id": "90ea6c53-ab0d-4416-ab7a-6088afb3cbfe",
   "metadata": {},
   "outputs": [
    {
     "data": {
      "text/plain": [
       "array([[0, 1, 1, ..., 1, 1, 1],\n",
       "       [1, 0, 1, ..., 0, 0, 1],\n",
       "       [0, 0, 1, ..., 1, 1, 0],\n",
       "       ...,\n",
       "       [0, 0, 1, ..., 0, 0, 1],\n",
       "       [0, 0, 0, ..., 1, 0, 1],\n",
       "       [0, 0, 0, ..., 1, 0, 0]])"
      ]
     },
     "execution_count": 71,
     "metadata": {},
     "output_type": "execute_result"
    }
   ],
   "source": [
    "A"
   ]
  },
  {
   "cell_type": "code",
   "execution_count": 72,
   "id": "dc39c09a-630d-421c-a66e-6d4f3e97796e",
   "metadata": {},
   "outputs": [],
   "source": [
    "M = np.bitwise_and(A,A[:,::-1]).sum()"
   ]
  },
  {
   "cell_type": "code",
   "execution_count": 73,
   "id": "576f3fbd-9184-412e-b525-3c77208a936e",
   "metadata": {},
   "outputs": [],
   "source": [
    "def generate(A,n_):\n",
    "    U = A.copy()\n",
    "    U[U!=0] = np.random.randint(1,n_+1,(U[U!=0]).shape)\n",
    "    return U"
   ]
  },
  {
   "cell_type": "code",
   "execution_count": 74,
   "id": "64f58add-f8ad-433d-b9fe-46d535ad8d66",
   "metadata": {},
   "outputs": [],
   "source": [
    "def s(X):\n",
    "    total_matches = (X==X[:,::-1]).sum()\n",
    "    n_ = int(X.max())\n",
    "    V = X.copy()\n",
    "    V[V!=0] = n_+1\n",
    "    V[V==0] = 1\n",
    "    V[V!=1] = 0\n",
    "    zero_matches = np.bitwise_and(V,V[:,::-1]).sum()\n",
    "    return total_matches - zero_matches"
   ]
  },
  {
   "cell_type": "code",
   "execution_count": 79,
   "id": "ab8eb04d-df2a-42fa-b11f-4002fe76ebe5",
   "metadata": {},
   "outputs": [],
   "source": [
    "sample = np.array([s(generate(A,6)) for _ in range(10000)])"
   ]
  },
  {
   "cell_type": "code",
   "execution_count": 80,
   "id": "a0aeabb4-b99d-4efb-9ef1-92271794d581",
   "metadata": {},
   "outputs": [
    {
     "data": {
      "text/plain": [
       "436.3434"
      ]
     },
     "execution_count": 80,
     "metadata": {},
     "output_type": "execute_result"
    }
   ],
   "source": [
    "sample.mean()"
   ]
  },
  {
   "cell_type": "code",
   "execution_count": 81,
   "id": "2c4aa94e-8176-4a49-830d-2125a259e98a",
   "metadata": {},
   "outputs": [
    {
     "data": {
      "text/plain": [
       "436.6666666666667"
      ]
     },
     "execution_count": 81,
     "metadata": {},
     "output_type": "execute_result"
    }
   ],
   "source": [
    "M/n #Expected value"
   ]
  },
  {
   "cell_type": "code",
   "execution_count": 82,
   "id": "627cdb5a-a73f-40fe-b017-ac81e5bec90a",
   "metadata": {},
   "outputs": [
    {
     "data": {
      "text/plain": [
       "<matplotlib.axes._subplots.AxesSubplot at 0x7fe412615460>"
      ]
     },
     "execution_count": 82,
     "metadata": {},
     "output_type": "execute_result"
    },
    {
     "data": {
      "image/png": "[encoded data removed]",
      "text/plain": [
       "<Figure size 432x288 with 1 Axes>"
      ]
     },
     "metadata": {
      "needs_background": "light"
     },
     "output_type": "display_data"
    }
   ],
   "source": [
    "sns.histplot(sample)"
   ]
  },
  {
   "cell_type": "code",
   "execution_count": null,
   "id": "90d57eef-cbdc-4d8a-963f-e0da9dfba413",
   "metadata": {},
   "outputs": [],
   "source": []
  }
 ],
 "metadata": {
  "kernelspec": {
   "display_name": "Python 3 (ipykernel)",
   "language": "python",
   "name": "python3"
  },
  "language_info": {
   "codemirror_mode": {
    "name": "ipython",
    "version": 3
   },
   "file_extension": ".py",
   "mimetype": "text/x-python",
   "name": "python",
   "nbconvert_exporter": "python",
   "pygments_lexer": "ipython3",
   "version": "3.8.10"
  }
 },
 "nbformat": 4,
 "nbformat_minor": 5
}
