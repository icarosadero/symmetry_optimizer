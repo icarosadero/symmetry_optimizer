{
 "cells": [
  {
   "cell_type": "code",
   "execution_count": 1,
   "id": "2e7bad54",
   "metadata": {},
   "outputs": [],
   "source": [
    "import numpy as np\n",
    "import matplotlib.pyplot as plt\n",
    "import seaborn as sns\n",
    "from tqdm import tqdm"
   ]
  },
  {
   "cell_type": "code",
   "execution_count": 2,
   "id": "6b9350b3",
   "metadata": {},
   "outputs": [],
   "source": [
    "from scipy.stats import binom"
   ]
  },
  {
   "cell_type": "code",
   "execution_count": 3,
   "id": "53a87408",
   "metadata": {},
   "outputs": [],
   "source": [
    "n = 10"
   ]
  },
  {
   "cell_type": "code",
   "execution_count": 4,
   "id": "c1269342",
   "metadata": {},
   "outputs": [],
   "source": [
    "A = np.random.randint(0,2,(100,100)).astype(int)"
   ]
  },
  {
   "cell_type": "code",
   "execution_count": 5,
   "id": "a280fb28",
   "metadata": {},
   "outputs": [
    {
     "data": {
      "text/plain": [
       "array([[1, 0, 0, ..., 0, 1, 1],\n",
       "       [1, 1, 1, ..., 0, 1, 0],\n",
       "       [0, 1, 0, ..., 1, 0, 0],\n",
       "       ...,\n",
       "       [0, 1, 1, ..., 1, 1, 1],\n",
       "       [0, 1, 0, ..., 0, 1, 0],\n",
       "       [0, 1, 1, ..., 1, 0, 1]])"
      ]
     },
     "execution_count": 5,
     "metadata": {},
     "output_type": "execute_result"
    }
   ],
   "source": [
    "A"
   ]
  },
  {
   "cell_type": "code",
   "execution_count": 6,
   "id": "f5c8d28f",
   "metadata": {},
   "outputs": [],
   "source": [
    "M = np.bitwise_and(A,A[:,::-1]).sum()"
   ]
  },
  {
   "cell_type": "code",
   "execution_count": 7,
   "id": "6db9d921",
   "metadata": {},
   "outputs": [],
   "source": [
    "def generate(A,n_):\n",
    "    U = A.copy()\n",
    "    U[U!=0] = np.random.randint(1,n_+1,(U[U!=0]).shape)\n",
    "    return U"
   ]
  },
  {
   "cell_type": "code",
   "execution_count": 8,
   "id": "9c969867",
   "metadata": {},
   "outputs": [],
   "source": [
    "def s(X):\n",
    "    total_matches = (X==X[:,::-1]).sum()\n",
    "    n_ = int(X.max())\n",
    "    V = X.copy()\n",
    "    V[V!=0] = n_+1\n",
    "    V[V==0] = 1\n",
    "    V[V!=1] = 0\n",
    "    zero_matches = np.bitwise_and(V,V[:,::-1]).sum()\n",
    "    return total_matches - zero_matches"
   ]
  },
  {
   "cell_type": "code",
   "execution_count": 9,
   "id": "a6e35992",
   "metadata": {},
   "outputs": [
    {
     "name": "stderr",
     "output_type": "stream",
     "text": [
      "100%|█████████████████████████████████| 100000/100000 [00:39<00:00, 2532.89it/s]\n"
     ]
    }
   ],
   "source": [
    "sample = np.array([s(generate(A,n)) for _ in tqdm(range(100000))])"
   ]
  },
  {
   "cell_type": "code",
   "execution_count": 10,
   "id": "86aac617",
   "metadata": {},
   "outputs": [],
   "source": [
    "P = binom(M,1/n)"
   ]
  },
  {
   "cell_type": "code",
   "execution_count": 11,
   "id": "6747e7b2",
   "metadata": {},
   "outputs": [],
   "source": [
    "x = np.arange(175,350,1)"
   ]
  },
  {
   "cell_type": "code",
   "execution_count": 12,
   "id": "c5a2cbc8",
   "metadata": {},
   "outputs": [
    {
     "data": {
      "text/plain": [
       "<matplotlib.axes._subplots.AxesSubplot at 0x7ff1402a5c10>"
      ]
     },
     "execution_count": 12,
     "metadata": {},
     "output_type": "execute_result"
    },
    {
     "data": {
      "image/png": "[encoded data removed]",
      "text/plain": [
       "<Figure size 432x288 with 1 Axes>"
      ]
     },
     "metadata": {
      "needs_background": "light"
     },
     "output_type": "display_data"
    }
   ],
   "source": [
    "sns.histplot(sample)"
   ]
  },
  {
   "cell_type": "code",
   "execution_count": 13,
   "id": "d3ed1287",
   "metadata": {},
   "outputs": [
    {
     "data": {
      "text/plain": [
       "[<matplotlib.lines.Line2D at 0x7ff13f8897c0>]"
      ]
     },
     "execution_count": 13,
     "metadata": {},
     "output_type": "execute_result"
    },
    {
     "data": {
      "image/png": "[encoded data removed]",
      "text/plain": [
       "<Figure size 432x288 with 1 Axes>"
      ]
     },
     "metadata": {
      "needs_background": "light"
     },
     "output_type": "display_data"
    }
   ],
   "source": [
    "plt.plot(x,P.pmf(x))"
   ]
  },
  {
   "cell_type": "code",
   "execution_count": 14,
   "id": "8e46a0cb",
   "metadata": {},
   "outputs": [
    {
     "data": {
      "text/plain": [
       "254.7999999999999"
      ]
     },
     "execution_count": 14,
     "metadata": {},
     "output_type": "execute_result"
    }
   ],
   "source": [
    "P.expect()"
   ]
  },
  {
   "cell_type": "code",
   "execution_count": 15,
   "id": "e10882fc",
   "metadata": {},
   "outputs": [
    {
     "data": {
      "text/plain": [
       "254.929"
      ]
     },
     "execution_count": 15,
     "metadata": {},
     "output_type": "execute_result"
    }
   ],
   "source": [
    "sample.mean()"
   ]
  },
  {
   "cell_type": "code",
   "execution_count": 16,
   "id": "d7b1e96a",
   "metadata": {},
   "outputs": [
    {
     "data": {
      "text/plain": [
       "254.8"
      ]
     },
     "execution_count": 16,
     "metadata": {},
     "output_type": "execute_result"
    }
   ],
   "source": [
    "M/n #Expected value"
   ]
  },
  {
   "cell_type": "code",
   "execution_count": 17,
   "id": "67b6900f",
   "metadata": {},
   "outputs": [
    {
     "data": {
      "text/plain": [
       "4.782810091130561e-46"
      ]
     },
     "execution_count": 17,
     "metadata": {},
     "output_type": "execute_result"
    }
   ],
   "source": [
    "P.cdf(325-P.expect())"
   ]
  },
  {
   "cell_type": "code",
   "execution_count": 20,
   "id": "990c5ee3",
   "metadata": {},
   "outputs": [
    {
     "data": {
      "text/plain": [
       "15.143315356948756"
      ]
     },
     "execution_count": 20,
     "metadata": {},
     "output_type": "execute_result"
    }
   ],
   "source": [
    "P.std()"
   ]
  },
  {
   "cell_type": "code",
   "execution_count": null,
   "id": "df2a86f5-f622-45f7-9853-fa9a835aa3ef",
   "metadata": {},
   "outputs": [],
   "source": []
  }
 ],
 "metadata": {
  "kernelspec": {
   "display_name": "Python 3 (ipykernel)",
   "language": "python",
   "name": "python3"
  },
  "language_info": {
   "codemirror_mode": {
    "name": "ipython",
    "version": 3
   },
   "file_extension": ".py",
   "mimetype": "text/x-python",
   "name": "python",
   "nbconvert_exporter": "python",
   "pygments_lexer": "ipython3",
   "version": "3.8.10"
  }
 },
 "nbformat": 4,
 "nbformat_minor": 5
}
