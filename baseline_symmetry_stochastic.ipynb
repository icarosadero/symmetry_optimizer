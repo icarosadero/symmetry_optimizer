{
 "cells": [
  {
   "cell_type": "code",
   "execution_count": 3,
   "id": "49d13fdd-0d6c-459b-b76b-b697e5475fb4",
   "metadata": {},
   "outputs": [],
   "source": [
    "import numpy as np\n",
    "import matplotlib.pyplot as plt\n",
    "import seaborn as sns\n",
    "from tqdm import tqdm"
   ]
  },
  {
   "cell_type": "code",
   "execution_count": 4,
   "id": "b68c099b-b2d2-42fe-8944-47ea3d0d19a9",
   "metadata": {},
   "outputs": [],
   "source": [
    "from scipy.stats import binom"
   ]
  },
  {
   "cell_type": "code",
   "execution_count": 5,
   "id": "47c1b841-d8c1-4336-a44a-b41251761b70",
   "metadata": {},
   "outputs": [],
   "source": [
    "n = 10"
   ]
  },
  {
   "cell_type": "code",
   "execution_count": 6,
   "id": "b0139b56-f048-4b1a-b406-ff4f0ff86cb0",
   "metadata": {},
   "outputs": [],
   "source": [
    "A = np.random.randint(0,2,(100,100)).astype(int)"
   ]
  },
  {
   "cell_type": "code",
   "execution_count": 7,
   "id": "90ea6c53-ab0d-4416-ab7a-6088afb3cbfe",
   "metadata": {},
   "outputs": [
    {
     "data": {
      "text/plain": [
       "array([[1, 0, 1, ..., 0, 0, 1],\n",
       "       [0, 0, 0, ..., 1, 1, 1],\n",
       "       [0, 0, 1, ..., 0, 1, 0],\n",
       "       ...,\n",
       "       [1, 1, 0, ..., 0, 1, 0],\n",
       "       [0, 1, 0, ..., 0, 0, 1],\n",
       "       [1, 0, 0, ..., 1, 1, 1]])"
      ]
     },
     "execution_count": 7,
     "metadata": {},
     "output_type": "execute_result"
    }
   ],
   "source": [
    "A"
   ]
  },
  {
   "cell_type": "code",
   "execution_count": 8,
   "id": "dc39c09a-630d-421c-a66e-6d4f3e97796e",
   "metadata": {},
   "outputs": [],
   "source": [
    "M = np.bitwise_and(A,A[:,::-1]).sum()"
   ]
  },
  {
   "cell_type": "code",
   "execution_count": 9,
   "id": "576f3fbd-9184-412e-b525-3c77208a936e",
   "metadata": {},
   "outputs": [],
   "source": [
    "def generate(A,n_):\n",
    "    U = A.copy()\n",
    "    U[U!=0] = np.random.randint(1,n_+1,(U[U!=0]).shape)\n",
    "    return U"
   ]
  },
  {
   "cell_type": "code",
   "execution_count": 10,
   "id": "64f58add-f8ad-433d-b9fe-46d535ad8d66",
   "metadata": {},
   "outputs": [],
   "source": [
    "def s(X):\n",
    "    total_matches = (X==X[:,::-1]).sum()\n",
    "    n_ = int(X.max())\n",
    "    V = X.copy()\n",
    "    V[V!=0] = n_+1\n",
    "    V[V==0] = 1\n",
    "    V[V!=1] = 0\n",
    "    zero_matches = np.bitwise_and(V,V[:,::-1]).sum()\n",
    "    return total_matches - zero_matches"
   ]
  },
  {
   "cell_type": "code",
   "execution_count": 11,
   "id": "ab8eb04d-df2a-42fa-b11f-4002fe76ebe5",
   "metadata": {},
   "outputs": [
    {
     "name": "stderr",
     "output_type": "stream",
     "text": [
      "100%|█████████████████████████████████| 100000/100000 [00:39<00:00, 2538.63it/s]\n"
     ]
    }
   ],
   "source": [
    "sample = np.array([s(generate(A,n)) for _ in tqdm(range(100000))])"
   ]
  },
  {
   "cell_type": "code",
   "execution_count": 14,
   "id": "080592cd-47b7-476c-8c7d-c4139ce18c4f",
   "metadata": {},
   "outputs": [],
   "source": [
    "P = binom(M,1/n)"
   ]
  },
  {
   "cell_type": "code",
   "execution_count": 18,
   "id": "2f50be3c-3245-4883-b276-b80c6d698cc0",
   "metadata": {},
   "outputs": [],
   "source": [
    "x = np.arange(175,350,1)"
   ]
  },
  {
   "cell_type": "code",
   "execution_count": 15,
   "id": "627cdb5a-a73f-40fe-b017-ac81e5bec90a",
   "metadata": {},
   "outputs": [
    {
     "data": {
      "text/plain": [
       "<matplotlib.axes._subplots.AxesSubplot at 0x7f8440907220>"
      ]
     },
     "execution_count": 15,
     "metadata": {},
     "output_type": "execute_result"
    },
    {
     "data": {
      "image/png": "[encoded data removed]",
      "text/plain": [
       "<Figure size 432x288 with 1 Axes>"
      ]
     },
     "metadata": {
      "needs_background": "light"
     },
     "output_type": "display_data"
    }
   ],
   "source": [
    "sns.histplot(sample)"
   ]
  },
  {
   "cell_type": "code",
   "execution_count": 22,
   "id": "ffeb7526-f5fe-4d50-be7e-950ca7572420",
   "metadata": {},
   "outputs": [
    {
     "data": {
      "text/plain": [
       "[<matplotlib.lines.Line2D at 0x7f8439a52dc0>]"
      ]
     },
     "execution_count": 22,
     "metadata": {},
     "output_type": "execute_result"
    },
    {
     "data": {
      "image/png": "[encoded data removed]",
      "text/plain": [
       "<Figure size 432x288 with 1 Axes>"
      ]
     },
     "metadata": {
      "needs_background": "light"
     },
     "output_type": "display_data"
    }
   ],
   "source": [
    "plt.plot(x,P.pmf(x))"
   ]
  },
  {
   "cell_type": "code",
   "execution_count": 23,
   "id": "323f5c86-3f9d-43cc-a0c2-28c1308571aa",
   "metadata": {},
   "outputs": [
    {
     "data": {
      "text/plain": [
       "262.9999999999998"
      ]
     },
     "execution_count": 23,
     "metadata": {},
     "output_type": "execute_result"
    }
   ],
   "source": [
    "P.expect()"
   ]
  },
  {
   "cell_type": "code",
   "execution_count": 12,
   "id": "a0aeabb4-b99d-4efb-9ef1-92271794d581",
   "metadata": {},
   "outputs": [
    {
     "data": {
      "text/plain": [
       "262.97004"
      ]
     },
     "execution_count": 12,
     "metadata": {},
     "output_type": "execute_result"
    }
   ],
   "source": [
    "sample.mean()"
   ]
  },
  {
   "cell_type": "code",
   "execution_count": 13,
   "id": "2c4aa94e-8176-4a49-830d-2125a259e98a",
   "metadata": {},
   "outputs": [
    {
     "data": {
      "text/plain": [
       "263.0"
      ]
     },
     "execution_count": 13,
     "metadata": {},
     "output_type": "execute_result"
    }
   ],
   "source": [
    "M/n #Expected value"
   ]
  },
  {
   "cell_type": "code",
   "execution_count": 26,
   "id": "7b6e0ca0-321b-47cb-be86-eff8caa79d8f",
   "metadata": {},
   "outputs": [
    {
     "data": {
      "text/plain": [
       "6.68660167925065e-54"
      ]
     },
     "execution_count": 26,
     "metadata": {},
     "output_type": "execute_result"
    }
   ],
   "source": [
    "P.cdf(325-P.expect())"
   ]
  },
  {
   "cell_type": "code",
   "execution_count": null,
   "id": "a9a3e410-234b-43fb-9e7a-f8bf8ca9f3bc",
   "metadata": {},
   "outputs": [],
   "source": []
  }
 ],
 "metadata": {
  "kernelspec": {
   "display_name": "Python 3 (ipykernel)",
   "language": "python",
   "name": "python3"
  },
  "language_info": {
   "codemirror_mode": {
    "name": "ipython",
    "version": 3
   },
   "file_extension": ".py",
   "mimetype": "text/x-python",
   "name": "python",
   "nbconvert_exporter": "python",
   "pygments_lexer": "ipython3",
   "version": "3.8.10"
  }
 },
 "nbformat": 4,
 "nbformat_minor": 5
}
