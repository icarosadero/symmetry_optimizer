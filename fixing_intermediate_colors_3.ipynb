{
 "cells": [
  {
   "cell_type": "markdown",
   "metadata": {},
   "source": [
    "# Take an image, filter intermediate colors, then shrink\n",
    "Actually better to filter before shrinking, for higher fidelity (for future) These images were processed in box, and then moved to github"
   ]
  },
  {
   "cell_type": "code",
   "execution_count": 1,
   "metadata": {},
   "outputs": [],
   "source": [
    "import cvfunc\n",
    "import cv2\n",
    "import scale\n",
    "import symmetry\n",
    "from tqdm import tqdm\n",
    "import pandas as pd\n",
    "import glob\n",
    "import os\n",
    "import numpy as np\n",
    "import matplotlib.pyplot as plt\n",
    "#import json\n",
    "#from multiprocess import Pool\n",
    "#from time import time\n",
    "#from functools import partial\n",
    "plt.rcParams['figure.figsize'] = [10, 10]"
   ]
  },
  {
   "cell_type": "code",
   "execution_count": 2,
   "metadata": {},
   "outputs": [],
   "source": [
    "# This is the code from Hernan Freedman: \n",
    "\n",
    "import cv2\n",
    "import numpy as np\n",
    "from numpy import loadtxt\n",
    "from PIL import Image\n",
    "import os\n",
    "\n",
    "def show_image(window_name, image):\n",
    "    cv2.namedWindow(window_name, cv2.WINDOW_NORMAL)\n",
    "    cv2.imshow(window_name, image)\n",
    "    cv2.waitKey(1)\n",
    "    return\n",
    "\n",
    "def how_gray(bgr_pixel, gray_pixel):\n",
    "    t = [abs(int(gray_pixel) - int(bgr_pixel[0])),abs(int(gray_pixel) - int(bgr_pixel[1])),abs(\n",
    "        int(gray_pixel) - int(bgr_pixel[2]))]\n",
    "    return max(t)\n",
    "\n",
    "def dif_bgr(bgr_pixel1, bgr_pixel2):\n",
    "    t = abs(int(bgr_pixel1[0]) - int(bgr_pixel2[0])) + abs(int(bgr_pixel1[1]) - int(bgr_pixel2[1])) + abs(\n",
    "        int(bgr_pixel1[2]) - int(bgr_pixel2[2]))\n",
    "    return t\n",
    "\n",
    "def in_array(element, array):\n",
    "    is_present = False\n",
    "    for e in array:\n",
    "        if (e == element).all():\n",
    "            is_present = True\n",
    "    return is_present\n",
    "\n",
    "def middle_color_repair(image, col_palette):\n",
    "\n",
    "    h, w = image.shape[:2]\n",
    "    mask = cv2.cvtColor(image, cv2.COLOR_BGR2GRAY)\n",
    "    hsv = cv2.cvtColor(image, cv2.COLOR_BGR2HSV)\n",
    "    gray = cv2.cvtColor(image, cv2.COLOR_BGR2GRAY)\n",
    "    ret_image = image.copy()\n",
    "    pixels_to_fix = 0\n",
    "    for y in range(h):\n",
    "        for x in range(w):\n",
    "            found = False\n",
    "            for c in range(len(col_palette)):\n",
    "                if (np.array([image[y][x][2], image[y][x][1],image[y][x][0]]) == col_palette[c]).all():\n",
    "                    found = True\n",
    "            if not found:\n",
    "                mask[y][x] = 0\n",
    "                pixels_to_fix += 1\n",
    "            else:\n",
    "                mask[y][x] = 255\n",
    "    print(\"Image:\", w, \"x\", h, \" - total pixels:\", w*h)\n",
    "    print(\"Pixels to fix:\", pixels_to_fix)\n",
    "    min_h = 256\n",
    "    min_x = -1\n",
    "    min_y = -1\n",
    "    for y in range(h):\n",
    "        for x in range(w):\n",
    "            if mask[y][x] == 0:\n",
    "                min_d = 256\n",
    "                min_x = -1\n",
    "                min_y = -1\n",
    "                h_gray = how_gray(image[y][x], gray[y][x])\n",
    "                for xx in range(x-1, x+2):\n",
    "                    for yy in range(y-1, y+2):\n",
    "                        #if x == 36 and y == 83:\n",
    "                        #    print(xx,yy,dif_bgr(image[y][x], image[yy][xx]), image[y][x], image[yy][xx])\n",
    "                        if xx >= 0 and yy >= 0 and xx < w and yy < h and not(xx == x and yy == y) and mask[yy][xx] == 255:\n",
    "\n",
    "                            if dif_bgr(image[y][x], image[yy][xx]) < 30:\n",
    "                                min_d = -1\n",
    "                                min_x = xx\n",
    "                                min_y = yy\n",
    "                            else:\n",
    "                                h_gray_this = how_gray(image[yy][xx], gray[yy][xx])\n",
    "                                if h_gray < 30 and h_gray_this < 30:\n",
    "                                    dif_gray = abs(int(gray[y][x]) - int(gray[yy][xx]))\n",
    "                                    if dif_gray < min_d:\n",
    "                                        min_d = dif_gray\n",
    "                                        min_x = xx\n",
    "                                        min_y = yy\n",
    "                                else:\n",
    "                                    dif_h1 = abs(int(hsv[y][x][0])-int(hsv[yy][xx][0]))\n",
    "                                    dif_h2 = abs(180 - dif_h1)\n",
    "                                    dif_h = min([dif_h1, dif_h2])\n",
    "                                    if dif_h < min_d:\n",
    "                                        min_d = dif_h\n",
    "                                        min_x = xx\n",
    "                                        min_y = yy\n",
    "                ret_image[y][x] = image[min_y][min_x]\n",
    "\n",
    "    return ret_image, mask\n",
    "\n",
    "\n",
    "def process_file(path, file):\n",
    "\n",
    "    print(\"Process file:\", path+file)\n",
    "    pil_image = Image.open(path+file)\n",
    "    col = pil_image.getcolors(maxcolors=256*256)\n",
    "    colors = []\n",
    "    for c in col:\n",
    "        if c[0] > 20: #Look for more than 20 repetitions of the same color\n",
    "            if in_array(c[1], palette):\n",
    "                print(c[1], \"present\", c[0], \"times\")\n",
    "            else:\n",
    "                print(c[1], \"present\", c[0], \"times but it not in palette.txt!!! - You can update palette.txt\")\n",
    "            colors.append(c[1])\n",
    "\n",
    "    image = cv2.imread(path+file)\n",
    "    new_image, new_mask = middle_color_repair(image, palette) #Run with colors in palette.txt\n",
    "    #new_image, new_mask = middle_color_repair(image, colors) #Run with colors detected in image\n",
    "\n",
    "    #show_image('source image', image)\n",
    "    #show_image('repaired image', new_image)\n",
    "    print(\"Save output:\", path+'out/'+file)\n",
    "    cv2.imwrite(path+'out/'+file, new_image)\n",
    "    #cv2.waitKey()\n",
    "    print(\"-------------------------------------------------------------\")\n"
   ]
  },
  {
   "cell_type": "markdown",
   "metadata": {},
   "source": [
    "# Take the georeferenced originals for Roberto, trim off the pink, shrink: "
   ]
  },
  {
   "cell_type": "code",
   "execution_count": null,
   "metadata": {},
   "outputs": [],
   "source": [
    "#Paths\n",
    "# # for Auburn 2021 images, and if you just want \"E\" images, filter on first line with: \"/*E.png\"\n",
    "# original_images_path = '/Users/michaelsmith/Library/CloudStorage/Box-Box/2D_symmetry_2021/Annotated/Auburn_2021'\n",
    "original_images_path = '/Users/michaelsmith/Library/CloudStorage/Box-Box/2D_symmetry_2021/Annotated/georeferenced_for_roberto_molinari/originals'\n",
    "scaled_images_path = \"/Users/michaelsmith/Library/CloudStorage/Box-Box/2D_symmetry_2021/Annotated/georeferenced_for_roberto_molinari/shrink\"\n"
   ]
  },
  {
   "cell_type": "code",
   "execution_count": null,
   "metadata": {},
   "outputs": [],
   "source": [
    "# this will shrink the images\n",
    "\n",
    "for file in tqdm(glob.glob(original_images_path+\"/EXAMPLE_IMAGE.png\"),desc=\"Progress\"):\n",
    "    print(file)\n",
    "    original = cv2.imread(file)\n",
    "    # IF it has the pink border, use this to crop:\n",
    "    border_cut = 20\n",
    "    original = original[border_cut:original.shape[0]-border_cut, border_cut:original.shape[1]-border_cut]\n",
    "    resized = scale.resize(original,100) # height, in PX \n",
    "#     # if you need to FLIP the image: \n",
    "#     resized = np.fliplr(resized)\n",
    "    # and save the image: \n",
    "    savestring = os.path.join(scaled_images_path,f\"{os.path.splitext(os.path.basename(file))[0]}.png\")\n",
    "    cv2.imwrite(savestring,resized)\n"
   ]
  },
  {
   "cell_type": "markdown",
   "metadata": {},
   "source": [
    "# Ok, and now we filter out the oddity colors using Hernan's code: "
   ]
  },
  {
   "cell_type": "code",
   "execution_count": null,
   "metadata": {},
   "outputs": [],
   "source": [
    "\n",
    "# input_path = 'C:/2022/Michael Smith/'\n",
    "input_path = '/Users/michaelsmith/Library/CloudStorage/Box-Box/2D_symmetry_2021/Annotated/georeferenced_for_roberto_molinari/shrink/'\n",
    "\n",
    "palette = loadtxt('palette.txt', delimiter=',')\n",
    "\n",
    "png_files = [x for x in os.listdir(input_path) if (x.endswith(\"East_day169_18Jun2013_S_copy_edited2.png\") )] # MLS MODIFIED .PNG TO REDUCE NUMBER OF TEST IMAGES...\n",
    "\n",
    "for file_name in png_files:\n",
    "    process_file(input_path, file_name)\n",
    "    "
   ]
  },
  {
   "cell_type": "code",
   "execution_count": null,
   "metadata": {},
   "outputs": [],
   "source": [
    "\n",
    "# Little fixes that I had to make using gimp! \n",
    "# North, day 134, east, had a small speck leftover from the pink rectangle\n",
    "# East, 18 June, South, looks like the gray color was incorrect... gray on left of nest was kosher... \n",
    "\n",
    "\n"
   ]
  },
  {
   "cell_type": "code",
   "execution_count": null,
   "metadata": {},
   "outputs": [],
   "source": []
  },
  {
   "cell_type": "code",
   "execution_count": null,
   "metadata": {},
   "outputs": [],
   "source": []
  },
  {
   "cell_type": "code",
   "execution_count": null,
   "metadata": {},
   "outputs": [],
   "source": []
  },
  {
   "cell_type": "code",
   "execution_count": null,
   "metadata": {},
   "outputs": [],
   "source": []
  },
  {
   "cell_type": "code",
   "execution_count": null,
   "metadata": {},
   "outputs": [],
   "source": [
    "# # this will shrink the images\n",
    "\n",
    "# for file in tqdm(glob.glob(original_images_path+\"/East*.png\"),desc=\"Progress\"):\n",
    "#     original = cv2.imread(file)\n",
    "#     (h, w) = original.shape[:2]\n",
    "#     height = 100\n",
    "#     r = height / float(h)\n",
    "#     dim = (int(w * r), height)\n",
    "#     resized = cv2.resize(original, dim, interpolation=cv2.INTER_NEAREST)\n",
    "#     savestring = os.path.join(scaled_images_path,f\"{os.path.splitext(os.path.basename(file))[0]}.png\")\n",
    "#     cv2.imwrite(savestring,resized)\n"
   ]
  },
  {
   "cell_type": "code",
   "execution_count": null,
   "metadata": {},
   "outputs": [],
   "source": [
    "# Load a shrink image:"
   ]
  },
  {
   "cell_type": "code",
   "execution_count": 4,
   "metadata": {},
   "outputs": [],
   "source": [
    "\n",
    "# test = cv2.imread('/Users/michaelsmith/Library/CloudStorage/Box-Box/2D_symmetry_2021/Annotated/georeferenced_for_roberto_molinari/shrink/col76/col76_day50_24may2021_E.png')\n",
    "test = cv2.imread('/Users/michaelsmith/Documents/GitHub/symmetry_optimizer/images/East/East_day105_16Apr2013_N.png')\n"
   ]
  },
  {
   "cell_type": "code",
   "execution_count": 5,
   "metadata": {},
   "outputs": [
    {
     "data": {
      "text/plain": [
       "<matplotlib.lines.Line2D at 0x150156be0>"
      ]
     },
     "execution_count": 5,
     "metadata": {},
     "output_type": "execute_result"
    },
    {
     "data": {
      "image/png": "[encoded data removed]",
      "text/plain": [
       "<Figure size 720x720 with 1 Axes>"
      ]
     },
     "metadata": {
      "needs_background": "light"
     },
     "output_type": "display_data"
    }
   ],
   "source": [
    "plt.imshow(test)\n",
    "plt.axvline(89)\n",
    "plt.axhline(17)"
   ]
  },
  {
   "cell_type": "code",
   "execution_count": 6,
   "metadata": {},
   "outputs": [
    {
     "data": {
      "text/plain": [
       "7"
      ]
     },
     "execution_count": 6,
     "metadata": {},
     "output_type": "execute_result"
    }
   ],
   "source": [
    "# So... how many colors are in here: 116 colors. So... that's the problem! \n",
    "len(cvfunc.get_colors(test)[0])"
   ]
  },
  {
   "cell_type": "code",
   "execution_count": 8,
   "metadata": {},
   "outputs": [
    {
     "data": {
      "text/plain": [
       "array([  0,  56,  75,  92, 109, 168, 173, 185, 202, 209, 224, 226, 234,\n",
       "       253, 255], dtype=uint8)"
      ]
     },
     "execution_count": 8,
     "metadata": {},
     "output_type": "execute_result"
    }
   ],
   "source": [
    "np.unique(test)"
   ]
  },
  {
   "cell_type": "code",
   "execution_count": 9,
   "metadata": {},
   "outputs": [
    {
     "data": {
      "text/plain": [
       "array([[  0,   0,   0],\n",
       "       [ 56, 109, 226],\n",
       "       [ 92,  92,  92],\n",
       "       [168, 209, 185],\n",
       "       [202, 253, 224],\n",
       "       [234, 173,  75],\n",
       "       [255, 255, 255]], dtype=uint8)"
      ]
     },
     "execution_count": 9,
     "metadata": {},
     "output_type": "execute_result"
    }
   ],
   "source": [
    "# this finds unique PIXEL values, cause it takes the combination (RGB) values: \n",
    "np.unique(test.reshape(-1, test.shape[2]), axis=0)"
   ]
  },
  {
   "cell_type": "code",
   "execution_count": 10,
   "metadata": {},
   "outputs": [
    {
     "data": {
      "text/plain": [
       "array([[255, 255, 255],\n",
       "       [255, 255, 255],\n",
       "       [255, 255, 255],\n",
       "       ...,\n",
       "       [255, 255, 255],\n",
       "       [255, 255, 255],\n",
       "       [255, 255, 255]], dtype=uint8)"
      ]
     },
     "execution_count": 10,
     "metadata": {},
     "output_type": "execute_result"
    }
   ],
   "source": [
    "test.reshape(-1, test.shape[2])"
   ]
  },
  {
   "cell_type": "code",
   "execution_count": 12,
   "metadata": {},
   "outputs": [
    {
     "data": {
      "text/plain": [
       "(100, 95, 3)"
      ]
     },
     "execution_count": 12,
     "metadata": {},
     "output_type": "execute_result"
    }
   ],
   "source": [
    "test.shape"
   ]
  },
  {
   "cell_type": "code",
   "execution_count": null,
   "metadata": {},
   "outputs": [],
   "source": []
  },
  {
   "cell_type": "code",
   "execution_count": null,
   "metadata": {},
   "outputs": [],
   "source": []
  },
  {
   "cell_type": "code",
   "execution_count": null,
   "metadata": {},
   "outputs": [],
   "source": [
    "# # this is Y,X: \n",
    "# test[17][89]"
   ]
  },
  {
   "cell_type": "code",
   "execution_count": null,
   "metadata": {},
   "outputs": [],
   "source": [
    "\n",
    "# for file in glob.glob(scaled_images_path+\"/col*/*.png\"):\n",
    "#     print(file)\n",
    "#     test = cv2.imread(file)\n",
    "#     print(len(cvfunc.get_colors(test)[0]))\n",
    "#     print('---')\n"
   ]
  },
  {
   "cell_type": "markdown",
   "metadata": {},
   "source": [
    "# Need to make sure all images are on the SAME x-y size (e.g. 100 x 100 px)\n",
    "Did a couple different things, for resizing based on current size, OR adding white space for early dates"
   ]
  },
  {
   "cell_type": "code",
   "execution_count": 28,
   "metadata": {},
   "outputs": [],
   "source": [
    "\n",
    "test = cv2.imread('/Users/michaelsmith/Desktop/col62_day241_01December2021_W_cropped.png')\n"
   ]
  },
  {
   "cell_type": "code",
   "execution_count": 29,
   "metadata": {},
   "outputs": [
    {
     "data": {
      "image/png": "[encoded data removed]",
      "text/plain": [
       "<Figure size 720x720 with 1 Axes>"
      ]
     },
     "metadata": {
      "needs_background": "light"
     },
     "output_type": "display_data"
    }
   ],
   "source": [
    "plt.imshow(test)\n",
    "plt.show()"
   ]
  },
  {
   "cell_type": "code",
   "execution_count": 35,
   "metadata": {},
   "outputs": [
    {
     "data": {
      "text/plain": [
       "(100, 69, 3)"
      ]
     },
     "execution_count": 35,
     "metadata": {},
     "output_type": "execute_result"
    }
   ],
   "source": [
    "test.shape"
   ]
  },
  {
   "cell_type": "code",
   "execution_count": 31,
   "metadata": {},
   "outputs": [
    {
     "data": {
      "text/plain": [
       "10"
      ]
     },
     "execution_count": 31,
     "metadata": {},
     "output_type": "execute_result"
    }
   ],
   "source": [
    "len(np.unique(test.reshape(-1, test.shape[2]), axis=0))"
   ]
  },
  {
   "cell_type": "code",
   "execution_count": 72,
   "metadata": {},
   "outputs": [],
   "source": [
    "# To see which files are oversize: \n",
    "path = '/Users/michaelsmith/Desktop/East'\n",
    "\n",
    "for file in glob.glob(path+\"/*.png\"):\n",
    "    test = cv2.imread(file)\n",
    "    \n",
    "    if test.shape[0] > 100:\n",
    "        print(file)\n",
    "        print(test.shape)\n",
    "        print(file)\n",
    "    elif test.shape[1] > 100:\n",
    "        print (file)\n",
    "        print(test.shape)\n",
    "        print(file)\n",
    "    else:\n",
    "        continue\n",
    "    print('---')"
   ]
  },
  {
   "cell_type": "code",
   "execution_count": 56,
   "metadata": {},
   "outputs": [],
   "source": [
    "# Rewrote the function for \"resize width\" cause there were some that had height correct, but not width. \n",
    "\n",
    "def resize(img,scale_height):\n",
    "    h,w,c = img.shape\n",
    "    resized = cv2.resize(img,(int(w*scale_height/h),scale_height),fx=0, fy=0, interpolation = cv2.INTER_NEAREST)\n",
    "    return resized\n",
    "\n",
    "def resize_width(img,scale_width):\n",
    "    h,w,c = img.shape\n",
    "    resized = cv2.resize(img,(int(w*scale_width/w),scale_width),fx=0, fy=0, interpolation = cv2.INTER_NEAREST)\n",
    "    return resized\n"
   ]
  },
  {
   "cell_type": "code",
   "execution_count": 65,
   "metadata": {},
   "outputs": [],
   "source": [
    "# plt.imshow(resized)"
   ]
  },
  {
   "cell_type": "code",
   "execution_count": 167,
   "metadata": {},
   "outputs": [
    {
     "name": "stdout",
     "output_type": "stream",
     "text": [
      "/Users/michaelsmith/Desktop/Col61/col61_day71_14June2021_E.png\n",
      "(95, 95, 3)\n",
      "(100, 100, 3)\n",
      "---\n",
      "/Users/michaelsmith/Desktop/Col61/col61_day71_14June2021_W.png\n",
      "(80, 79, 3)\n",
      "(100, 100, 3)\n",
      "---\n"
     ]
    }
   ],
   "source": [
    "# THIS WILL MAKE IMAGE 100x100 PX, but if the nest is smaller in one dimension, it'll stretch it! Beware! \n",
    "\n",
    "# Dragged a folder of all images onto desktop (to keep from messing up the ones on github)\n",
    "# resize each image to be 100 x 100\n",
    "# save in same folder, then check, then re-upload\n",
    "\n",
    "path = '/Users/michaelsmith/Desktop/Col61'\n",
    "\n",
    "for file in glob.glob(path+\"/col61_day71_14June2021*.png\"): # can adjust here to get specific images\n",
    "    test = cv2.imread(file)\n",
    "    resized = resize_width(test,100)\n",
    "    print(file)\n",
    "    print(test.shape)\n",
    "    print(resized.shape)\n",
    "    print('---')\n",
    "    \n",
    "    # Save the image: \n",
    "    savestring = os.path.join(path,f\"{os.path.splitext(os.path.basename(file))[0]}.png\")\n",
    "    cv2.imwrite(savestring,resized)\n"
   ]
  },
  {
   "cell_type": "code",
   "execution_count": 87,
   "metadata": {
    "scrolled": true
   },
   "outputs": [
    {
     "name": "stdout",
     "output_type": "stream",
     "text": [
      "(100, 100, 3)\n",
      "9\n",
      "(100, 100, 3)\n",
      "10\n",
      "(100, 100, 3)\n",
      "10\n",
      "(96, 96, 3)\n",
      "7\n",
      "(100, 100, 3)\n",
      "8\n",
      "(100, 100, 3)\n",
      "10\n",
      "(100, 61, 3)\n",
      "7\n",
      "(100, 89, 3)\n",
      "10\n",
      "(100, 100, 3)\n",
      "10\n",
      "(100, 100, 3)\n",
      "3\n",
      "(100, 61, 3)\n",
      "7\n",
      "(100, 89, 3)\n",
      "10\n",
      "(100, 100, 3)\n",
      "12\n",
      "(100, 100, 3)\n",
      "3\n",
      "(100, 100, 3)\n",
      "10\n",
      "(100, 100, 3)\n",
      "10\n",
      "(100, 100, 3)\n",
      "10\n",
      "(82, 81, 3)\n",
      "7\n",
      "(100, 100, 3)\n",
      "8\n",
      "(100, 100, 3)\n",
      "10\n",
      "(100, 99, 3)\n",
      "5\n",
      "(100, 100, 3)\n",
      "9\n",
      "(100, 100, 3)\n",
      "10\n",
      "(100, 99, 3)\n",
      "8\n",
      "(97, 97, 3)\n",
      "7\n",
      "(100, 100, 3)\n",
      "6\n",
      "(100, 100, 3)\n",
      "10\n",
      "(96, 97, 3)\n",
      "7\n",
      "(100, 100, 3)\n",
      "8\n",
      "(100, 100, 3)\n",
      "6\n",
      "(100, 100, 3)\n",
      "5\n",
      "(100, 100, 3)\n",
      "9\n",
      "(100, 100, 3)\n",
      "7\n",
      "(100, 100, 3)\n",
      "10\n",
      "(100, 100, 3)\n",
      "7\n",
      "(100, 100, 3)\n",
      "10\n",
      "(100, 100, 3)\n",
      "7\n",
      "(100, 100, 3)\n",
      "10\n",
      "(100, 100, 3)\n",
      "8\n",
      "(96, 96, 3)\n",
      "9\n",
      "(100, 100, 3)\n",
      "7\n",
      "(100, 100, 3)\n",
      "6\n",
      "(100, 69, 3)\n",
      "8\n",
      "(100, 100, 3)\n",
      "10\n",
      "(100, 100, 3)\n",
      "8\n",
      "(100, 100, 3)\n",
      "10\n",
      "(100, 100, 3)\n",
      "8\n",
      "(100, 100, 3)\n",
      "7\n",
      "(100, 100, 3)\n",
      "5\n",
      "(100, 69, 3)\n",
      "8\n"
     ]
    }
   ],
   "source": [
    "path = '/Users/michaelsmith/Desktop/Col61'\n",
    "for file in glob.glob(path+\"/*.png\"):\n",
    "    test = cv2.imread(file)\n",
    "    print(test.shape)\n",
    "    print(len(np.unique(test.reshape(-1, test.shape[2]), axis=0)))"
   ]
  },
  {
   "cell_type": "code",
   "execution_count": 165,
   "metadata": {},
   "outputs": [
    {
     "name": "stdout",
     "output_type": "stream",
     "text": [
      "/Users/michaelsmith/Desktop/Col61/col62_day170_21September2021_W.png\n",
      "(100, 100, 3)\n",
      "/Users/michaelsmith/Desktop/Col61/col62_day190_11October2021_W.png\n",
      "(100, 100, 3)\n",
      "/Users/michaelsmith/Desktop/Col61/col62_day200_21October2021_E.png\n",
      "(100, 100, 3)\n",
      "/Users/michaelsmith/Desktop/Col61/col61_day71_14June2021_E.png\n",
      "(100, 100, 3)\n",
      "/Users/michaelsmith/Desktop/Col61/col62_day159_10September2021_E.png\n",
      "(100, 100, 3)\n",
      "/Users/michaelsmith/Desktop/Col61/col62_day221_11November2021_W.png\n",
      "(100, 100, 3)\n",
      "/Users/michaelsmith/Desktop/Col61/col61_day10_14apr2021_W.png\n",
      "(100, 100, 3)\n",
      "/Users/michaelsmith/Desktop/Col61/col61_day32_6may2021_W.png\n",
      "(100, 100, 3)\n",
      "/Users/michaelsmith/Desktop/Col61/col61_day40_14may2021_E.png\n",
      "(100, 100, 3)\n",
      "/Users/michaelsmith/Desktop/Col61/col61_day110_23July2021_E.png\n",
      "(100, 100, 3)\n",
      "/Users/michaelsmith/Desktop/Col61/col61_day10_14apr2021_E.png\n",
      "(100, 100, 3)\n",
      "/Users/michaelsmith/Desktop/Col61/col61_day32_6may2021_E.png\n",
      "(100, 100, 3)\n",
      "/Users/michaelsmith/Desktop/Col61/col61_day40_14may2021_W.png\n",
      "(100, 100, 3)\n",
      "/Users/michaelsmith/Desktop/Col61/col61_day110_23July2021_W.png\n",
      "(100, 100, 3)\n",
      "/Users/michaelsmith/Desktop/Col61/col62_day170_21September2021_E.png\n",
      "(100, 100, 3)\n",
      "/Users/michaelsmith/Desktop/Col61/col62_day190_11October2021_E.png\n",
      "(100, 100, 3)\n",
      "/Users/michaelsmith/Desktop/Col61/col62_day200_21October2021_W.png\n",
      "(100, 100, 3)\n",
      "/Users/michaelsmith/Desktop/Col61/col61_day71_14June2021_W.png\n",
      "(100, 100, 3)\n",
      "/Users/michaelsmith/Desktop/Col61/col62_day159_10September2021_W.png\n",
      "(100, 100, 3)\n",
      "/Users/michaelsmith/Desktop/Col61/col62_day221_11November2021_E.png\n",
      "(100, 100, 3)\n",
      "/Users/michaelsmith/Desktop/Col61/col61_day100_13July2021_W.png\n",
      "(100, 100, 3)\n",
      "/Users/michaelsmith/Desktop/Col61/col62_day180_01October2021_E.png\n",
      "(100, 100, 3)\n",
      "/Users/michaelsmith/Desktop/Col61/col62_day229_19November2021_E.png\n",
      "(100, 100, 3)\n",
      "/Users/michaelsmith/Desktop/Col61/col61_day60_03June2021_W.png\n",
      "(100, 100, 3)\n",
      "/Users/michaelsmith/Desktop/Col61/col61_day50_24may2021_W.png\n",
      "(100, 100, 3)\n",
      "/Users/michaelsmith/Desktop/Col61/col61_day89_02July2021_E.png\n",
      "(100, 100, 3)\n",
      "/Users/michaelsmith/Desktop/Col61/col62_day229_19November2021_W.png\n",
      "(100, 100, 3)\n",
      "/Users/michaelsmith/Desktop/Col61/col61_day50_24may2021_E.png\n",
      "(100, 100, 3)\n",
      "/Users/michaelsmith/Desktop/Col61/col61_day60_03June2021_E.png\n",
      "(100, 100, 3)\n",
      "/Users/michaelsmith/Desktop/Col61/col61_day89_02July2021_W.png\n",
      "(100, 100, 3)\n",
      "/Users/michaelsmith/Desktop/Col61/col61_day100_13July2021_E.png\n",
      "(100, 100, 3)\n",
      "/Users/michaelsmith/Desktop/Col61/col62_day180_01October2021_W.png\n",
      "(100, 100, 3)\n",
      "/Users/michaelsmith/Desktop/Col61/col62_day141_23August2021_E.png\n",
      "(100, 100, 3)\n",
      "/Users/michaelsmith/Desktop/Col61/col61_day46_20may2021_W.png\n",
      "(100, 100, 3)\n",
      "/Users/michaelsmith/Desktop/Col61/col62_day120_02August2021_W.png\n",
      "(100, 100, 3)\n",
      "/Users/michaelsmith/Desktop/Col61/col62_day208_29October2021_E.png\n",
      "(100, 100, 3)\n",
      "/Users/michaelsmith/Desktop/Col61/col62_day120_02August2021_E.png\n",
      "(100, 100, 3)\n",
      "/Users/michaelsmith/Desktop/Col61/col62_day208_29October2021_W.png\n",
      "(100, 100, 3)\n",
      "/Users/michaelsmith/Desktop/Col61/col62_day141_23August2021_W.png\n",
      "(100, 100, 3)\n",
      "/Users/michaelsmith/Desktop/Col61/col61_day46_20may2021_E.png\n",
      "(100, 100, 3)\n",
      "/Users/michaelsmith/Desktop/Col61/col61_day81_24June2021_E.png\n",
      "(100, 100, 3)\n",
      "/Users/michaelsmith/Desktop/Col61/col62_day151_02September2021_E.png\n",
      "(100, 100, 3)\n",
      "/Users/michaelsmith/Desktop/Col61/col61_day20_24apr2021_E.png\n",
      "(100, 100, 3)\n",
      "/Users/michaelsmith/Desktop/Col61/col62_day241_01December2021_E.png\n",
      "(100, 100, 3)\n",
      "/Users/michaelsmith/Desktop/Col61/col62_day129_11August2021_W.png\n",
      "(100, 100, 3)\n",
      "/Users/michaelsmith/Desktop/Col61/col62_day241_01December2021_W.png\n",
      "(100, 100, 3)\n",
      "/Users/michaelsmith/Desktop/Col61/col62_day129_11August2021_E.png\n",
      "(100, 100, 3)\n",
      "/Users/michaelsmith/Desktop/Col61/col61_day81_24June2021_W.png\n",
      "(100, 100, 3)\n",
      "/Users/michaelsmith/Desktop/Col61/col62_day151_02September2021_W.png\n",
      "(100, 100, 3)\n",
      "/Users/michaelsmith/Desktop/Col61/col61_day20_24apr2021_W.png\n",
      "(100, 100, 3)\n",
      "/Users/michaelsmith/Desktop/Col61/col62_day170_21September2021_W.png\n",
      "(100, 100, 3)\n",
      "/Users/michaelsmith/Desktop/Col61/col62_day190_11October2021_W.png\n",
      "(100, 100, 3)\n",
      "/Users/michaelsmith/Desktop/Col61/col62_day200_21October2021_E.png\n",
      "(100, 100, 3)\n",
      "/Users/michaelsmith/Desktop/Col61/col61_day71_14June2021_E.png\n",
      "(100, 100, 3)\n",
      "/Users/michaelsmith/Desktop/Col61/col62_day159_10September2021_E.png\n",
      "(100, 100, 3)\n",
      "/Users/michaelsmith/Desktop/Col61/col62_day221_11November2021_W.png\n",
      "(100, 100, 3)\n",
      "/Users/michaelsmith/Desktop/Col61/col61_day10_14apr2021_W.png\n",
      "(100, 100, 3)\n",
      "/Users/michaelsmith/Desktop/Col61/col61_day32_6may2021_W.png\n",
      "(100, 100, 3)\n",
      "/Users/michaelsmith/Desktop/Col61/col61_day40_14may2021_E.png\n",
      "(100, 100, 3)\n",
      "/Users/michaelsmith/Desktop/Col61/col61_day110_23July2021_E.png\n",
      "(100, 100, 3)\n",
      "/Users/michaelsmith/Desktop/Col61/col61_day10_14apr2021_E.png\n",
      "(100, 100, 3)\n",
      "/Users/michaelsmith/Desktop/Col61/col61_day32_6may2021_E.png\n",
      "(100, 100, 3)\n",
      "/Users/michaelsmith/Desktop/Col61/col61_day40_14may2021_W.png\n",
      "(100, 100, 3)\n",
      "/Users/michaelsmith/Desktop/Col61/col61_day110_23July2021_W.png\n",
      "(100, 100, 3)\n",
      "/Users/michaelsmith/Desktop/Col61/col62_day170_21September2021_E.png\n",
      "(100, 100, 3)\n",
      "/Users/michaelsmith/Desktop/Col61/col62_day190_11October2021_E.png\n",
      "(100, 100, 3)\n",
      "/Users/michaelsmith/Desktop/Col61/col62_day200_21October2021_W.png\n",
      "(100, 100, 3)\n",
      "/Users/michaelsmith/Desktop/Col61/col61_day71_14June2021_W.png\n",
      "(100, 100, 3)\n",
      "/Users/michaelsmith/Desktop/Col61/col62_day159_10September2021_W.png\n",
      "(100, 100, 3)\n",
      "/Users/michaelsmith/Desktop/Col61/col62_day221_11November2021_E.png\n",
      "(100, 100, 3)\n",
      "/Users/michaelsmith/Desktop/Col61/col61_day100_13July2021_W.png\n",
      "(100, 100, 3)\n",
      "/Users/michaelsmith/Desktop/Col61/col62_day180_01October2021_E.png\n",
      "(100, 100, 3)\n",
      "/Users/michaelsmith/Desktop/Col61/col62_day229_19November2021_E.png\n",
      "(100, 100, 3)\n",
      "/Users/michaelsmith/Desktop/Col61/col61_day60_03June2021_W.png\n",
      "(100, 100, 3)\n",
      "/Users/michaelsmith/Desktop/Col61/col61_day50_24may2021_W.png\n",
      "(100, 100, 3)\n",
      "/Users/michaelsmith/Desktop/Col61/col61_day89_02July2021_E.png\n",
      "(100, 100, 3)\n",
      "/Users/michaelsmith/Desktop/Col61/col62_day229_19November2021_W.png\n",
      "(100, 100, 3)\n",
      "/Users/michaelsmith/Desktop/Col61/col61_day50_24may2021_E.png\n",
      "(100, 100, 3)\n",
      "/Users/michaelsmith/Desktop/Col61/col61_day60_03June2021_E.png\n",
      "(100, 100, 3)\n",
      "/Users/michaelsmith/Desktop/Col61/col61_day89_02July2021_W.png\n",
      "(100, 100, 3)\n",
      "/Users/michaelsmith/Desktop/Col61/col61_day100_13July2021_E.png\n",
      "(100, 100, 3)\n",
      "/Users/michaelsmith/Desktop/Col61/col62_day180_01October2021_W.png\n",
      "(100, 100, 3)\n",
      "/Users/michaelsmith/Desktop/Col61/col62_day141_23August2021_E.png\n",
      "(100, 100, 3)\n",
      "/Users/michaelsmith/Desktop/Col61/col61_day46_20may2021_W.png\n",
      "(100, 100, 3)\n",
      "/Users/michaelsmith/Desktop/Col61/col62_day120_02August2021_W.png\n",
      "(100, 100, 3)\n",
      "/Users/michaelsmith/Desktop/Col61/col62_day208_29October2021_E.png\n",
      "(100, 100, 3)\n",
      "/Users/michaelsmith/Desktop/Col61/col62_day120_02August2021_E.png\n",
      "(100, 100, 3)\n",
      "/Users/michaelsmith/Desktop/Col61/col62_day208_29October2021_W.png\n",
      "(100, 100, 3)\n",
      "/Users/michaelsmith/Desktop/Col61/col62_day141_23August2021_W.png\n",
      "(100, 100, 3)\n",
      "/Users/michaelsmith/Desktop/Col61/col61_day46_20may2021_E.png\n",
      "(100, 100, 3)\n",
      "/Users/michaelsmith/Desktop/Col61/col61_day81_24June2021_E.png\n",
      "(100, 100, 3)\n",
      "/Users/michaelsmith/Desktop/Col61/col62_day151_02September2021_E.png\n",
      "(100, 100, 3)\n",
      "/Users/michaelsmith/Desktop/Col61/col61_day20_24apr2021_E.png\n",
      "(100, 100, 3)\n",
      "/Users/michaelsmith/Desktop/Col61/col62_day241_01December2021_E.png\n",
      "(100, 100, 3)\n",
      "/Users/michaelsmith/Desktop/Col61/col62_day129_11August2021_W.png\n",
      "(100, 100, 3)\n",
      "/Users/michaelsmith/Desktop/Col61/col62_day241_01December2021_W.png\n",
      "(100, 100, 3)\n",
      "/Users/michaelsmith/Desktop/Col61/col62_day129_11August2021_E.png\n",
      "(100, 100, 3)\n",
      "/Users/michaelsmith/Desktop/Col61/col61_day81_24June2021_W.png\n",
      "(100, 100, 3)\n",
      "/Users/michaelsmith/Desktop/Col61/col62_day151_02September2021_W.png\n",
      "(100, 100, 3)\n",
      "/Users/michaelsmith/Desktop/Col61/col61_day20_24apr2021_W.png\n",
      "(100, 100, 3)\n"
     ]
    }
   ],
   "source": [
    "# Method to add WHITE to left side of the figure (for early dates, when Col61 hadn't filled the space):\n",
    "\n",
    "path = '/Users/michaelsmith/Desktop/Col61'\n",
    "\n",
    "# test = cv2.imread('/Users/michaelsmith/Desktop/Col61/col61_day10_14apr2021_E.png')\n",
    "\n",
    "# First, fix the widths: \n",
    "for file in glob.glob(path+\"/*.png\"):\n",
    "    print(file)\n",
    "    test = cv2.imread(file)\n",
    "    # print(savestring)\n",
    "    print(test.shape)\n",
    "    # print(len(np.unique(test.reshape(-1, test.shape[2]), axis=0)))\n",
    "    if test.shape[1]<100:\n",
    "        print('to fix width')\n",
    "        width_of_image = test.shape[1]\n",
    "        height_of_image = test.shape[0]\n",
    "        width_to_add = 100 - width_of_image\n",
    "        blank_image = np.zeros([height_of_image,width_to_add,3],dtype=np.uint8) # THIS IS THE BLANK SPACE\n",
    "        blank_image.fill(255)\n",
    "        combined_image = cv2.hconcat([blank_image, test]) # put the blank image to the LEFT of image\n",
    "        # save the image:\n",
    "        savestring = os.path.join(path,f\"{os.path.splitext(os.path.basename(file))[0]}.png\")\n",
    "        cv2.imwrite(savestring,combined_image)\n",
    "    else:\n",
    "        continue\n",
    "\n",
    "\n",
    "# AND THEN, THE HEIGHTS... \n",
    "# First, fix the widths: \n",
    "for file in glob.glob(path+\"/*.png\"):\n",
    "    print(file)\n",
    "    test = cv2.imread(file)\n",
    "    print(test.shape)\n",
    "    # print(len(np.unique(test.reshape(-1, test.shape[2]), axis=0)))\n",
    "    if test.shape[0]<100:\n",
    "        print('to fix height')\n",
    "        width_of_image = test.shape[1]\n",
    "        height_of_image = test.shape[0]\n",
    "        height_to_add = 100 - height_of_image\n",
    "        blank_image = np.zeros([height_to_add,width_of_image,3],dtype=np.uint8)\n",
    "        blank_image.fill(255)\n",
    "        combined_image = cv2.vconcat([test, blank_image]) # put the blank image to the LEFT of image\n",
    "        # plt.imshow(combined_image)\n",
    "        # plt.show()\n",
    "        # save the image:\n",
    "        savestring = os.path.join(path,f\"{os.path.splitext(os.path.basename(file))[0]}.png\")\n",
    "        cv2.imwrite(savestring,combined_image)\n",
    "    else:\n",
    "        continue\n"
   ]
  },
  {
   "cell_type": "code",
   "execution_count": null,
   "metadata": {},
   "outputs": [],
   "source": []
  },
  {
   "cell_type": "code",
   "execution_count": null,
   "metadata": {},
   "outputs": [],
   "source": []
  },
  {
   "cell_type": "code",
   "execution_count": null,
   "metadata": {},
   "outputs": [],
   "source": []
  },
  {
   "cell_type": "code",
   "execution_count": null,
   "metadata": {},
   "outputs": [],
   "source": []
  },
  {
   "cell_type": "code",
   "execution_count": null,
   "metadata": {},
   "outputs": [],
   "source": []
  },
  {
   "cell_type": "code",
   "execution_count": null,
   "metadata": {},
   "outputs": [],
   "source": []
  },
  {
   "cell_type": "code",
   "execution_count": null,
   "metadata": {},
   "outputs": [],
   "source": []
  },
  {
   "cell_type": "code",
   "execution_count": null,
   "metadata": {},
   "outputs": [],
   "source": []
  },
  {
   "cell_type": "code",
   "execution_count": null,
   "metadata": {},
   "outputs": [],
   "source": []
  },
  {
   "cell_type": "code",
   "execution_count": null,
   "metadata": {},
   "outputs": [],
   "source": []
  }
 ],
 "metadata": {
  "kernelspec": {
   "display_name": "Python 3",
   "language": "python",
   "name": "python3"
  },
  "language_info": {
   "codemirror_mode": {
    "name": "ipython",
    "version": 3
   },
   "file_extension": ".py",
   "mimetype": "text/x-python",
   "name": "python",
   "nbconvert_exporter": "python",
   "pygments_lexer": "ipython3",
   "version": "3.8.9"
  }
 },
 "nbformat": 4,
 "nbformat_minor": 4
}
